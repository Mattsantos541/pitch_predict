{
 "cells": [
  {
   "cell_type": "code",
   "execution_count": 1,
   "metadata": {},
   "outputs": [],
   "source": [
    "import pandas as pd\n",
    "import numpy as np\n",
    "import matplotlib.pyplot as plt\n",
    "import seaborn as sns\n",
    "from sklearn.preprocessing import RobustScaler, LabelEncoder\n",
    "from sklearn.model_selection import train_test_split, cross_val_score\n",
    "pd.set_option('display.max_columns', None)"
   ]
  },
  {
   "cell_type": "code",
   "execution_count": 2,
   "metadata": {},
   "outputs": [],
   "source": [
    "df=pd.read_csv('all_df.csv')"
   ]
  },
  {
   "cell_type": "code",
   "execution_count": 9,
   "metadata": {},
   "outputs": [
    {
     "name": "stdout",
     "output_type": "stream",
     "text": [
      "<class 'pandas.core.frame.DataFrame'>\n",
      "RangeIndex: 2867154 entries, 0 to 2867153\n",
      "Data columns (total 72 columns):\n",
      "Unnamed: 0          int64\n",
      "px                  float64\n",
      "pz                  float64\n",
      "start_speed         float64\n",
      "end_speed           float64\n",
      "spin_rate           float64\n",
      "spin_dir            float64\n",
      "break_angle         float64\n",
      "break_length        float64\n",
      "break_y             float64\n",
      "ax                  float64\n",
      "ay                  float64\n",
      "az                  float64\n",
      "sz_bot              float64\n",
      "sz_top              float64\n",
      "type_confidence     float64\n",
      "vx0                 float64\n",
      "vy0                 float64\n",
      "vz0                 float64\n",
      "x                   float64\n",
      "x0                  float64\n",
      "y                   float64\n",
      "y0                  float64\n",
      "z0                  float64\n",
      "pfx_x               float64\n",
      "pfx_z               float64\n",
      "nasty               float64\n",
      "zone                float64\n",
      "code                object\n",
      "type                object\n",
      "type_of_pitch       object\n",
      "event_num           int64\n",
      "batter_score        float64\n",
      "ab_id               int64\n",
      "ball_count          float64\n",
      "strike_count        float64\n",
      "outs                float64\n",
      "pitch_num_ab        float64\n",
      "on_1b               float64\n",
      "on_2b               float64\n",
      "on_3b               float64\n",
      "batter_id           int64\n",
      "event               object\n",
      "g_id                int64\n",
      "inning              int64\n",
      "o                   int64\n",
      "pitcher_score       int64\n",
      "pitcher_throws      object\n",
      "pitcher_id          int64\n",
      "batter_stance       object\n",
      "top                 bool\n",
      "attendance          int64\n",
      "away_final_score    int64\n",
      "away_team           object\n",
      "date                object\n",
      "elapsed_time        int64\n",
      "home_final_score    int64\n",
      "home_team           object\n",
      "start_time          object\n",
      "umpire_1B           object\n",
      "umpire_2B           object\n",
      "umpire_3B           object\n",
      "umpire_HP           object\n",
      "venue_name          object\n",
      "weather             object\n",
      "wind                object\n",
      "delay               int64\n",
      "Batter_name         object\n",
      "first_name          object\n",
      "last_name           object\n",
      "Pitcher_name        object\n",
      "year                object\n",
      "dtypes: bool(1), float64(35), int64(14), object(22)\n",
      "memory usage: 1.5+ GB\n"
     ]
    }
   ],
   "source": [
    "df.info()"
   ]
  },
  {
   "cell_type": "code",
   "execution_count": 3,
   "metadata": {},
   "outputs": [],
   "source": [
    "### will divide df into different dataframes by season"
   ]
  },
  {
   "cell_type": "code",
   "execution_count": 4,
   "metadata": {},
   "outputs": [],
   "source": [
    "#convert the game id column to a string\n",
    "dfy = df.g_id.astype('str')"
   ]
  },
  {
   "cell_type": "code",
   "execution_count": 5,
   "metadata": {},
   "outputs": [],
   "source": [
    "#Since the year is the first four characters, we will isolate those characters\n",
    "dfy = dfy.str[:4]"
   ]
  },
  {
   "cell_type": "code",
   "execution_count": 6,
   "metadata": {},
   "outputs": [
    {
     "data": {
      "text/plain": [
       "0    2015\n",
       "1    2015\n",
       "2    2015\n",
       "3    2015\n",
       "4    2015\n",
       "Name: g_id, dtype: object"
      ]
     },
     "execution_count": 6,
     "metadata": {},
     "output_type": "execute_result"
    }
   ],
   "source": [
    "dfy.head()"
   ]
  },
  {
   "cell_type": "code",
   "execution_count": 7,
   "metadata": {},
   "outputs": [],
   "source": [
    "#make new columnfor year\n",
    "df['year'] = dfy.values"
   ]
  },
  {
   "cell_type": "code",
   "execution_count": 20,
   "metadata": {},
   "outputs": [],
   "source": [
    "dfid= df.ab_id.astype('str')"
   ]
  },
  {
   "cell_type": "code",
   "execution_count": 21,
   "metadata": {},
   "outputs": [],
   "source": [
    "dfid=dfid.str[5:]"
   ]
  },
  {
   "cell_type": "code",
   "execution_count": 22,
   "metadata": {},
   "outputs": [
    {
     "data": {
      "text/plain": [
       "0    00001\n",
       "Name: ab_id, dtype: object"
      ]
     },
     "execution_count": 22,
     "metadata": {},
     "output_type": "execute_result"
    }
   ],
   "source": [
    "dfid.head(1)"
   ]
  },
  {
   "cell_type": "code",
   "execution_count": 23,
   "metadata": {},
   "outputs": [],
   "source": [
    "df['abid']=dfid.values"
   ]
  },
  {
   "cell_type": "code",
   "execution_count": 10,
   "metadata": {},
   "outputs": [],
   "source": [
    "df.rename(columns= {'Pitchers Name': 'Pitcher_name', 'Batters Name': 'Batter_name', 'b_score': 'batter_score', 'b_count': 'ball_count', 'p_throws': 'pitcher_throws', 'stand': 'batter_stance', 'p_score': 'pitcher_score', 's_count': 'strike_count', 'pitch_type':'type_of_pitch', 'pitch_num': 'pitch_num_ab'}, inplace= True)"
   ]
  },
  {
   "cell_type": "code",
   "execution_count": null,
   "metadata": {},
   "outputs": [],
   "source": []
  },
  {
   "cell_type": "code",
   "execution_count": 24,
   "metadata": {},
   "outputs": [],
   "source": [
    "df1=df[['abid', \"batter_score\", 'pitcher_score', 'ball_count', 'strike_count', 'outs', 'pitch_num_ab', 'on_1b', 'on_2b', 'on_3b' ]].astype(int)"
   ]
  },
  {
   "cell_type": "code",
   "execution_count": 27,
   "metadata": {},
   "outputs": [
    {
     "name": "stdout",
     "output_type": "stream",
     "text": [
      "<class 'pandas.core.frame.DataFrame'>\n",
      "RangeIndex: 2867154 entries, 0 to 2867153\n",
      "Data columns (total 10 columns):\n",
      "abid             int64\n",
      "batter_score     int64\n",
      "pitcher_score    int64\n",
      "ball_count       int64\n",
      "strike_count     int64\n",
      "outs             int64\n",
      "pitch_num_ab     int64\n",
      "on_1b            int64\n",
      "on_2b            int64\n",
      "on_3b            int64\n",
      "dtypes: int64(10)\n",
      "memory usage: 218.7 MB\n"
     ]
    }
   ],
   "source": [
    "df1.info()"
   ]
  },
  {
   "cell_type": "markdown",
   "metadata": {},
   "source": [
    "##### will get rid of unneccesary data for a new Dataframe, divide data by seasons since there is almost 3 million data points"
   ]
  },
  {
   "cell_type": "code",
   "execution_count": 29,
   "metadata": {},
   "outputs": [],
   "source": [
    "main= pd.DataFrame(df[['type_of_pitch', 'abid', 'Pitcher_name', 'Batter_name', 'pitcher_score', 'batter_score', 'ball_count', 'strike_count', 'outs', 'pitch_num_ab',\n",
    "                            'on_1b', 'on_2b', 'on_3b', 'batter_id', 'inning', 'pitcher_throws',\n",
    "                             'pitcher_id', 'batter_stance', 'top', 'weather', 'year']])"
   ]
  },
  {
   "cell_type": "code",
   "execution_count": 42,
   "metadata": {},
   "outputs": [
    {
     "name": "stdout",
     "output_type": "stream",
     "text": [
      "<class 'pandas.core.frame.DataFrame'>\n",
      "RangeIndex: 2867154 entries, 0 to 2867153\n",
      "Data columns (total 21 columns):\n",
      "type_of_pitch     object\n",
      "abid              object\n",
      "Pitcher_name      object\n",
      "Batter_name       object\n",
      "inning            int64\n",
      "pitcher_score     int64\n",
      "batter_score      int64\n",
      "ball_count        int64\n",
      "strike_count      int64\n",
      "outs              int64\n",
      "pitch_num_ab      int64\n",
      "on_1b             int64\n",
      "on_2b             int64\n",
      "on_3b             int64\n",
      "pitcher_throws    object\n",
      "batter_stance     object\n",
      "weather           object\n",
      "pitcher_id        int64\n",
      "batter_id         int64\n",
      "top               bool\n",
      "year              object\n",
      "dtypes: bool(1), int64(12), object(8)\n",
      "memory usage: 440.2+ MB\n"
     ]
    }
   ],
   "source": [
    "main['abid'].astype('int64')\n",
    "main.info()"
   ]
  },
  {
   "cell_type": "markdown",
   "metadata": {},
   "source": []
  },
  {
   "cell_type": "code",
   "execution_count": null,
   "metadata": {},
   "outputs": [],
   "source": []
  },
  {
   "cell_type": "code",
   "execution_count": 43,
   "metadata": {},
   "outputs": [],
   "source": [
    "#needed to convert all floats to int, no benefit to keeping as floats\n",
    "main[[\"batter_score\", 'pitcher_score', 'ball_count', 'strike_count', 'outs', 'pitch_num_ab', 'on_1b', 'on_2b', 'on_3b' ]]= main[[\"batter_score\", 'pitcher_score', 'ball_count', 'strike_count', 'outs', 'pitch_num_ab', 'on_1b', 'on_2b', 'on_3b' ]].astype(int)"
   ]
  },
  {
   "cell_type": "code",
   "execution_count": 44,
   "metadata": {},
   "outputs": [
    {
     "name": "stdout",
     "output_type": "stream",
     "text": [
      "<class 'pandas.core.frame.DataFrame'>\n",
      "RangeIndex: 2867154 entries, 0 to 2867153\n",
      "Data columns (total 21 columns):\n",
      "type_of_pitch     object\n",
      "abid              object\n",
      "Pitcher_name      object\n",
      "Batter_name       object\n",
      "inning            int64\n",
      "pitcher_score     int64\n",
      "batter_score      int64\n",
      "ball_count        int64\n",
      "strike_count      int64\n",
      "outs              int64\n",
      "pitch_num_ab      int64\n",
      "on_1b             int64\n",
      "on_2b             int64\n",
      "on_3b             int64\n",
      "pitcher_throws    object\n",
      "batter_stance     object\n",
      "weather           object\n",
      "pitcher_id        int64\n",
      "batter_id         int64\n",
      "top               bool\n",
      "year              object\n",
      "dtypes: bool(1), int64(12), object(8)\n",
      "memory usage: 440.2+ MB\n"
     ]
    }
   ],
   "source": [
    "main.info()"
   ]
  },
  {
   "cell_type": "code",
   "execution_count": 45,
   "metadata": {},
   "outputs": [],
   "source": [
    "main= main[['type_of_pitch', 'abid', 'Pitcher_name', 'Batter_name', 'inning', 'pitcher_score', 'batter_score', 'ball_count', 'strike_count', 'outs', 'pitch_num_ab',\n",
    "                            'on_1b', 'on_2b', 'on_3b',  'pitcher_throws', 'batter_stance', 'weather',\n",
    "                             'pitcher_id', 'batter_id', 'top', 'year']]"
   ]
  },
  {
   "cell_type": "code",
   "execution_count": 46,
   "metadata": {},
   "outputs": [
    {
     "data": {
      "text/html": [
       "<div>\n",
       "<style scoped>\n",
       "    .dataframe tbody tr th:only-of-type {\n",
       "        vertical-align: middle;\n",
       "    }\n",
       "\n",
       "    .dataframe tbody tr th {\n",
       "        vertical-align: top;\n",
       "    }\n",
       "\n",
       "    .dataframe thead th {\n",
       "        text-align: right;\n",
       "    }\n",
       "</style>\n",
       "<table border=\"1\" class=\"dataframe\">\n",
       "  <thead>\n",
       "    <tr style=\"text-align: right;\">\n",
       "      <th></th>\n",
       "      <th>type_of_pitch</th>\n",
       "      <th>abid</th>\n",
       "      <th>Pitcher_name</th>\n",
       "      <th>Batter_name</th>\n",
       "      <th>inning</th>\n",
       "      <th>pitcher_score</th>\n",
       "      <th>batter_score</th>\n",
       "      <th>ball_count</th>\n",
       "      <th>strike_count</th>\n",
       "      <th>outs</th>\n",
       "      <th>pitch_num_ab</th>\n",
       "      <th>on_1b</th>\n",
       "      <th>on_2b</th>\n",
       "      <th>on_3b</th>\n",
       "      <th>pitcher_throws</th>\n",
       "      <th>batter_stance</th>\n",
       "      <th>weather</th>\n",
       "      <th>pitcher_id</th>\n",
       "      <th>batter_id</th>\n",
       "      <th>top</th>\n",
       "      <th>year</th>\n",
       "    </tr>\n",
       "  </thead>\n",
       "  <tbody>\n",
       "    <tr>\n",
       "      <th>2867153</th>\n",
       "      <td>FF</td>\n",
       "      <td>85574</td>\n",
       "      <td>Josh Hader</td>\n",
       "      <td>Anthony Rizzo</td>\n",
       "      <td>9</td>\n",
       "      <td>3</td>\n",
       "      <td>1</td>\n",
       "      <td>1</td>\n",
       "      <td>2</td>\n",
       "      <td>2</td>\n",
       "      <td>4</td>\n",
       "      <td>0</td>\n",
       "      <td>1</td>\n",
       "      <td>0</td>\n",
       "      <td>L</td>\n",
       "      <td>L</td>\n",
       "      <td>65 degrees, overcast</td>\n",
       "      <td>623352</td>\n",
       "      <td>519203</td>\n",
       "      <td>False</td>\n",
       "      <td>2018</td>\n",
       "    </tr>\n",
       "  </tbody>\n",
       "</table>\n",
       "</div>"
      ],
      "text/plain": [
       "        type_of_pitch   abid Pitcher_name    Batter_name  inning  \\\n",
       "2867153            FF  85574   Josh Hader  Anthony Rizzo       9   \n",
       "\n",
       "         pitcher_score  batter_score  ball_count  strike_count  outs  \\\n",
       "2867153              3             1           1             2     2   \n",
       "\n",
       "         pitch_num_ab  on_1b  on_2b  on_3b pitcher_throws batter_stance  \\\n",
       "2867153             4      0      1      0              L             L   \n",
       "\n",
       "                      weather  pitcher_id  batter_id    top  year  \n",
       "2867153  65 degrees, overcast      623352     519203  False  2018  "
      ]
     },
     "execution_count": 46,
     "metadata": {},
     "output_type": "execute_result"
    }
   ],
   "source": [
    "main.tail(1)"
   ]
  },
  {
   "cell_type": "code",
   "execution_count": 47,
   "metadata": {},
   "outputs": [
    {
     "name": "stdout",
     "output_type": "stream",
     "text": [
      "<class 'pandas.core.frame.DataFrame'>\n",
      "RangeIndex: 2867154 entries, 0 to 2867153\n",
      "Data columns (total 21 columns):\n",
      "type_of_pitch     object\n",
      "abid              object\n",
      "Pitcher_name      object\n",
      "Batter_name       object\n",
      "inning            int64\n",
      "pitcher_score     int64\n",
      "batter_score      int64\n",
      "ball_count        int64\n",
      "strike_count      int64\n",
      "outs              int64\n",
      "pitch_num_ab      int64\n",
      "on_1b             int64\n",
      "on_2b             int64\n",
      "on_3b             int64\n",
      "pitcher_throws    object\n",
      "batter_stance     object\n",
      "weather           object\n",
      "pitcher_id        int64\n",
      "batter_id         int64\n",
      "top               bool\n",
      "year              object\n",
      "dtypes: bool(1), int64(12), object(8)\n",
      "memory usage: 440.2+ MB\n"
     ]
    }
   ],
   "source": [
    "main.info()"
   ]
  },
  {
   "cell_type": "markdown",
   "metadata": {},
   "source": []
  },
  {
   "cell_type": "code",
   "execution_count": 48,
   "metadata": {},
   "outputs": [
    {
     "data": {
      "text/plain": [
       "type_of_pitch     14189\n",
       "abid                  0\n",
       "Pitcher_name          0\n",
       "Batter_name           0\n",
       "inning                0\n",
       "pitcher_score         0\n",
       "batter_score          0\n",
       "ball_count            0\n",
       "strike_count          0\n",
       "outs                  0\n",
       "pitch_num_ab          0\n",
       "on_1b                 0\n",
       "on_2b                 0\n",
       "on_3b                 0\n",
       "pitcher_throws        0\n",
       "batter_stance         0\n",
       "weather               0\n",
       "pitcher_id            0\n",
       "batter_id             0\n",
       "top                   0\n",
       "year                  0\n",
       "dtype: int64"
      ]
     },
     "execution_count": 48,
     "metadata": {},
     "output_type": "execute_result"
    }
   ],
   "source": [
    "#checking for null values\n",
    "main.isnull().sum()"
   ]
  },
  {
   "cell_type": "markdown",
   "metadata": {},
   "source": [
    "#### Since <1% of the total observations contain null values (under pitch_type)we can drop the null values from the dataset "
   ]
  },
  {
   "cell_type": "code",
   "execution_count": 49,
   "metadata": {},
   "outputs": [],
   "source": [
    "#dropping null values\n",
    "main = main.dropna()"
   ]
  },
  {
   "cell_type": "code",
   "execution_count": 50,
   "metadata": {},
   "outputs": [
    {
     "data": {
      "text/plain": [
       "type_of_pitch     0\n",
       "abid              0\n",
       "Pitcher_name      0\n",
       "Batter_name       0\n",
       "inning            0\n",
       "pitcher_score     0\n",
       "batter_score      0\n",
       "ball_count        0\n",
       "strike_count      0\n",
       "outs              0\n",
       "pitch_num_ab      0\n",
       "on_1b             0\n",
       "on_2b             0\n",
       "on_3b             0\n",
       "pitcher_throws    0\n",
       "batter_stance     0\n",
       "weather           0\n",
       "pitcher_id        0\n",
       "batter_id         0\n",
       "top               0\n",
       "year              0\n",
       "dtype: int64"
      ]
     },
     "execution_count": 50,
     "metadata": {},
     "output_type": "execute_result"
    }
   ],
   "source": [
    "main.isnull().sum()"
   ]
  },
  {
   "cell_type": "code",
   "execution_count": 51,
   "metadata": {},
   "outputs": [
    {
     "name": "stdout",
     "output_type": "stream",
     "text": [
      "<class 'pandas.core.frame.DataFrame'>\n",
      "Int64Index: 2852965 entries, 0 to 2867153\n",
      "Data columns (total 21 columns):\n",
      "type_of_pitch     object\n",
      "abid              object\n",
      "Pitcher_name      object\n",
      "Batter_name       object\n",
      "inning            int64\n",
      "pitcher_score     int64\n",
      "batter_score      int64\n",
      "ball_count        int64\n",
      "strike_count      int64\n",
      "outs              int64\n",
      "pitch_num_ab      int64\n",
      "on_1b             int64\n",
      "on_2b             int64\n",
      "on_3b             int64\n",
      "pitcher_throws    object\n",
      "batter_stance     object\n",
      "weather           object\n",
      "pitcher_id        int64\n",
      "batter_id         int64\n",
      "top               bool\n",
      "year              object\n",
      "dtypes: bool(1), int64(12), object(8)\n",
      "memory usage: 459.8+ MB\n"
     ]
    }
   ],
   "source": [
    "main.info()"
   ]
  },
  {
   "cell_type": "code",
   "execution_count": 52,
   "metadata": {},
   "outputs": [
    {
     "data": {
      "text/plain": [
       "FF    1014877\n",
       "SL     450578\n",
       "FT     337983\n",
       "CH     292789\n",
       "SI     242504\n",
       "CU     234391\n",
       "FC     149756\n",
       "KC      66484\n",
       "FS      43705\n",
       "KN      11260\n",
       "IN       6197\n",
       "EP        815\n",
       "FO        810\n",
       "PO        628\n",
       "SC        113\n",
       "UN         57\n",
       "AB          9\n",
       "FA          9\n",
       "Name: type_of_pitch, dtype: int64"
      ]
     },
     "execution_count": 52,
     "metadata": {},
     "output_type": "execute_result"
    }
   ],
   "source": [
    "#exploring types of pitch that can be dropped\n",
    "main['type_of_pitch'].value_counts()"
   ]
  },
  {
   "cell_type": "code",
   "execution_count": null,
   "metadata": {},
   "outputs": [],
   "source": []
  },
  {
   "cell_type": "code",
   "execution_count": 53,
   "metadata": {},
   "outputs": [],
   "source": [
    "#dropping rows where type_of_pitch not significant and knuckleballs (Knuckleballer only throw knuckle balls)\n",
    "#removing pitch types with <100 observations\n",
    "main = main[main.type_of_pitch != 'AB']\n",
    "main = main[main.type_of_pitch != 'UN']\n",
    "main = main[main.type_of_pitch != 'EP']\n",
    "main = main[main.type_of_pitch != 'SC']\n",
    "main = main[main.type_of_pitch != 'FA']\n",
    "main = main[main.type_of_pitch != 'PO']\n",
    "main = main[main.type_of_pitch != 'FO']\n",
    "main = main[main.type_of_pitch != 'IN']\n",
    "main = main[main.type_of_pitch != 'KN']"
   ]
  },
  {
   "cell_type": "code",
   "execution_count": 33,
   "metadata": {},
   "outputs": [
    {
     "data": {
      "text/plain": [
       "FF    1014877\n",
       "SL     450578\n",
       "FT     337983\n",
       "CH     292789\n",
       "SI     242504\n",
       "CU     234391\n",
       "FC     149756\n",
       "KC      66484\n",
       "FS      43705\n",
       "Name: type_of_pitch, dtype: int64"
      ]
     },
     "execution_count": 33,
     "metadata": {},
     "output_type": "execute_result"
    }
   ],
   "source": [
    "main['type_of_pitch'].value_counts()"
   ]
  },
  {
   "cell_type": "code",
   "execution_count": 35,
   "metadata": {},
   "outputs": [
    {
     "data": {
      "text/html": [
       "<div>\n",
       "<style scoped>\n",
       "    .dataframe tbody tr th:only-of-type {\n",
       "        vertical-align: middle;\n",
       "    }\n",
       "\n",
       "    .dataframe tbody tr th {\n",
       "        vertical-align: top;\n",
       "    }\n",
       "\n",
       "    .dataframe thead th {\n",
       "        text-align: right;\n",
       "    }\n",
       "</style>\n",
       "<table border=\"1\" class=\"dataframe\">\n",
       "  <thead>\n",
       "    <tr style=\"text-align: right;\">\n",
       "      <th></th>\n",
       "      <th>type_of_pitch</th>\n",
       "      <th>Pitcher_name</th>\n",
       "      <th>Batter_name</th>\n",
       "      <th>inning</th>\n",
       "      <th>pitcher_score</th>\n",
       "      <th>batter_score</th>\n",
       "      <th>ball_count</th>\n",
       "      <th>strike_count</th>\n",
       "      <th>outs</th>\n",
       "      <th>pitch_num_ab</th>\n",
       "      <th>on_1b</th>\n",
       "      <th>on_2b</th>\n",
       "      <th>on_3b</th>\n",
       "      <th>pitcher_throws</th>\n",
       "      <th>batter_stance</th>\n",
       "      <th>weather</th>\n",
       "      <th>pitcher_id</th>\n",
       "      <th>batter_id</th>\n",
       "      <th>top</th>\n",
       "      <th>year</th>\n",
       "    </tr>\n",
       "  </thead>\n",
       "  <tbody>\n",
       "    <tr>\n",
       "      <th>0</th>\n",
       "      <td>FF</td>\n",
       "      <td>Jon Lester</td>\n",
       "      <td>Matt Carpenter</td>\n",
       "      <td>1</td>\n",
       "      <td>0</td>\n",
       "      <td>0</td>\n",
       "      <td>0</td>\n",
       "      <td>0</td>\n",
       "      <td>0</td>\n",
       "      <td>1</td>\n",
       "      <td>0</td>\n",
       "      <td>0</td>\n",
       "      <td>0</td>\n",
       "      <td>L</td>\n",
       "      <td>L</td>\n",
       "      <td>44 degrees, clear</td>\n",
       "      <td>452657</td>\n",
       "      <td>572761</td>\n",
       "      <td>True</td>\n",
       "      <td>2015</td>\n",
       "    </tr>\n",
       "  </tbody>\n",
       "</table>\n",
       "</div>"
      ],
      "text/plain": [
       "  type_of_pitch Pitcher_name     Batter_name  inning  pitcher_score  \\\n",
       "0            FF   Jon Lester  Matt Carpenter       1              0   \n",
       "\n",
       "   batter_score  ball_count  strike_count  outs  pitch_num_ab  on_1b  on_2b  \\\n",
       "0             0           0             0     0             1      0      0   \n",
       "\n",
       "   on_3b pitcher_throws batter_stance            weather  pitcher_id  \\\n",
       "0      0              L             L  44 degrees, clear      452657   \n",
       "\n",
       "   batter_id   top  year  \n",
       "0     572761  True  2015  "
      ]
     },
     "execution_count": 35,
     "metadata": {},
     "output_type": "execute_result"
    }
   ],
   "source": [
    "main.head(1)"
   ]
  },
  {
   "cell_type": "markdown",
   "metadata": {},
   "source": [
    "#### One hot encode Balls and Strikes Maybe"
   ]
  },
  {
   "cell_type": "code",
   "execution_count": null,
   "metadata": {},
   "outputs": [],
   "source": []
  },
  {
   "cell_type": "markdown",
   "metadata": {},
   "source": [
    "### Create target feature 1= Fastball 2= Offspeed 3= Breaking Ball for Pitch Type"
   ]
  },
  {
   "cell_type": "markdown",
   "metadata": {},
   "source": [
    "#grouped health scores into 4 groups\n",
    "health_scores= {'health_scores' : []}\n",
    "for x in df['total_score']:\n",
    "#     print(x)\n",
    "    if x > 99:\n",
    "        health_scores['health_scores'].append('1')\n",
    "    elif x>=96:\n",
    "        health_scores['health_scores'].append('2')\n",
    "    elif x >=92:\n",
    "        health_scores['health_scores'].append('3')\n",
    "    else :\n",
    "        health_scores['health_scores'].append('4')\n",
    "#df\n",
    "df['health_scores']= health_scores['health_scores']"
   ]
  },
  {
   "cell_type": "markdown",
   "metadata": {},
   "source": [
    "Pitch Type Definitions\n",
    "* FT - Two-seam Fastball- 1\n",
    "* FC - Cutter- 1\n",
    "* FF - Four-seam Fastball- 1\n",
    "* SI - Sinker- 1\n",
    "* FS - Splitter- 2\n",
    "* CH - Changeup- 2\n",
    "* SL - Slider- 3\n",
    "* KC - Knuckle curve- 3\n",
    "* CU - Curveball- 3"
   ]
  },
  {
   "cell_type": "code",
   "execution_count": null,
   "metadata": {},
   "outputs": [],
   "source": []
  },
  {
   "cell_type": "code",
   "execution_count": 48,
   "metadata": {},
   "outputs": [],
   "source": [
    "#grouped 'type of pitch in Pitch_Type' (the specific pitch into their classification) into 3 groups: 1=fastball 2= offspeed 3= Breaking pitch\n",
    "Pitch_Type= {'Pitch_Type' : []}\n",
    "for x in main['type_of_pitch']:\n",
    "    if (x== 'FT') or (x=='FC') or (x=='FF'):\n",
    "        Pitch_Type['Pitch_Type'].append('1')\n",
    "    elif (x== 'FS') or (x=='CH'):\n",
    "        Pitch_Type['Pitch_Type'].append('2')\n",
    "    else:\n",
    "        Pitch_Type['Pitch_Type'].append('3')\n",
    "\n",
    "main['Pitch_Type']= Pitch_Type['Pitch_Type']        \n",
    "\n",
    "\n",
    "    "
   ]
  },
  {
   "cell_type": "code",
   "execution_count": 52,
   "metadata": {},
   "outputs": [],
   "source": [
    "#run difference feature\n",
    "main['run_difference']= main['pitcher_score']- main['batter_score']"
   ]
  },
  {
   "cell_type": "code",
   "execution_count": 55,
   "metadata": {},
   "outputs": [
    {
     "data": {
      "text/html": [
       "<div>\n",
       "<style scoped>\n",
       "    .dataframe tbody tr th:only-of-type {\n",
       "        vertical-align: middle;\n",
       "    }\n",
       "\n",
       "    .dataframe tbody tr th {\n",
       "        vertical-align: top;\n",
       "    }\n",
       "\n",
       "    .dataframe thead th {\n",
       "        text-align: right;\n",
       "    }\n",
       "</style>\n",
       "<table border=\"1\" class=\"dataframe\">\n",
       "  <thead>\n",
       "    <tr style=\"text-align: right;\">\n",
       "      <th></th>\n",
       "      <th>Pitch_Type</th>\n",
       "      <th>type_of_pitch</th>\n",
       "      <th>Pitcher_name</th>\n",
       "      <th>Batter_name</th>\n",
       "      <th>inning</th>\n",
       "      <th>run_difference</th>\n",
       "      <th>pitcher_score</th>\n",
       "      <th>batter_score</th>\n",
       "      <th>ball_count</th>\n",
       "      <th>strike_count</th>\n",
       "      <th>outs</th>\n",
       "      <th>pitch_num_ab</th>\n",
       "      <th>on_1b</th>\n",
       "      <th>on_2b</th>\n",
       "      <th>on_3b</th>\n",
       "      <th>pitcher_throws</th>\n",
       "      <th>batter_stance</th>\n",
       "      <th>weather</th>\n",
       "      <th>pitcher_id</th>\n",
       "      <th>batter_id</th>\n",
       "      <th>top</th>\n",
       "      <th>year</th>\n",
       "    </tr>\n",
       "  </thead>\n",
       "  <tbody>\n",
       "    <tr>\n",
       "      <th>0</th>\n",
       "      <td>1</td>\n",
       "      <td>FF</td>\n",
       "      <td>Jon Lester</td>\n",
       "      <td>Matt Carpenter</td>\n",
       "      <td>1</td>\n",
       "      <td>0</td>\n",
       "      <td>0</td>\n",
       "      <td>0</td>\n",
       "      <td>0</td>\n",
       "      <td>0</td>\n",
       "      <td>0</td>\n",
       "      <td>1</td>\n",
       "      <td>0</td>\n",
       "      <td>0</td>\n",
       "      <td>0</td>\n",
       "      <td>L</td>\n",
       "      <td>L</td>\n",
       "      <td>44 degrees, clear</td>\n",
       "      <td>452657</td>\n",
       "      <td>572761</td>\n",
       "      <td>True</td>\n",
       "      <td>2015</td>\n",
       "    </tr>\n",
       "    <tr>\n",
       "      <th>1</th>\n",
       "      <td>1</td>\n",
       "      <td>FF</td>\n",
       "      <td>Jon Lester</td>\n",
       "      <td>Matt Carpenter</td>\n",
       "      <td>1</td>\n",
       "      <td>0</td>\n",
       "      <td>0</td>\n",
       "      <td>0</td>\n",
       "      <td>0</td>\n",
       "      <td>1</td>\n",
       "      <td>0</td>\n",
       "      <td>2</td>\n",
       "      <td>0</td>\n",
       "      <td>0</td>\n",
       "      <td>0</td>\n",
       "      <td>L</td>\n",
       "      <td>L</td>\n",
       "      <td>44 degrees, clear</td>\n",
       "      <td>452657</td>\n",
       "      <td>572761</td>\n",
       "      <td>True</td>\n",
       "      <td>2015</td>\n",
       "    </tr>\n",
       "    <tr>\n",
       "      <th>2</th>\n",
       "      <td>1</td>\n",
       "      <td>FF</td>\n",
       "      <td>Jon Lester</td>\n",
       "      <td>Matt Carpenter</td>\n",
       "      <td>1</td>\n",
       "      <td>0</td>\n",
       "      <td>0</td>\n",
       "      <td>0</td>\n",
       "      <td>0</td>\n",
       "      <td>2</td>\n",
       "      <td>0</td>\n",
       "      <td>3</td>\n",
       "      <td>0</td>\n",
       "      <td>0</td>\n",
       "      <td>0</td>\n",
       "      <td>L</td>\n",
       "      <td>L</td>\n",
       "      <td>44 degrees, clear</td>\n",
       "      <td>452657</td>\n",
       "      <td>572761</td>\n",
       "      <td>True</td>\n",
       "      <td>2015</td>\n",
       "    </tr>\n",
       "    <tr>\n",
       "      <th>3</th>\n",
       "      <td>1</td>\n",
       "      <td>FF</td>\n",
       "      <td>Jon Lester</td>\n",
       "      <td>Matt Carpenter</td>\n",
       "      <td>1</td>\n",
       "      <td>0</td>\n",
       "      <td>0</td>\n",
       "      <td>0</td>\n",
       "      <td>0</td>\n",
       "      <td>2</td>\n",
       "      <td>0</td>\n",
       "      <td>4</td>\n",
       "      <td>0</td>\n",
       "      <td>0</td>\n",
       "      <td>0</td>\n",
       "      <td>L</td>\n",
       "      <td>L</td>\n",
       "      <td>44 degrees, clear</td>\n",
       "      <td>452657</td>\n",
       "      <td>572761</td>\n",
       "      <td>True</td>\n",
       "      <td>2015</td>\n",
       "    </tr>\n",
       "    <tr>\n",
       "      <th>4</th>\n",
       "      <td>3</td>\n",
       "      <td>CU</td>\n",
       "      <td>Jon Lester</td>\n",
       "      <td>Matt Carpenter</td>\n",
       "      <td>1</td>\n",
       "      <td>0</td>\n",
       "      <td>0</td>\n",
       "      <td>0</td>\n",
       "      <td>1</td>\n",
       "      <td>2</td>\n",
       "      <td>0</td>\n",
       "      <td>5</td>\n",
       "      <td>0</td>\n",
       "      <td>0</td>\n",
       "      <td>0</td>\n",
       "      <td>L</td>\n",
       "      <td>L</td>\n",
       "      <td>44 degrees, clear</td>\n",
       "      <td>452657</td>\n",
       "      <td>572761</td>\n",
       "      <td>True</td>\n",
       "      <td>2015</td>\n",
       "    </tr>\n",
       "  </tbody>\n",
       "</table>\n",
       "</div>"
      ],
      "text/plain": [
       "  Pitch_Type type_of_pitch Pitcher_name     Batter_name  inning  \\\n",
       "0          1            FF   Jon Lester  Matt Carpenter       1   \n",
       "1          1            FF   Jon Lester  Matt Carpenter       1   \n",
       "2          1            FF   Jon Lester  Matt Carpenter       1   \n",
       "3          1            FF   Jon Lester  Matt Carpenter       1   \n",
       "4          3            CU   Jon Lester  Matt Carpenter       1   \n",
       "\n",
       "   run_difference  pitcher_score  batter_score  ball_count  strike_count  \\\n",
       "0               0              0             0           0             0   \n",
       "1               0              0             0           0             1   \n",
       "2               0              0             0           0             2   \n",
       "3               0              0             0           0             2   \n",
       "4               0              0             0           1             2   \n",
       "\n",
       "   outs  pitch_num_ab  on_1b  on_2b  on_3b pitcher_throws batter_stance  \\\n",
       "0     0             1      0      0      0              L             L   \n",
       "1     0             2      0      0      0              L             L   \n",
       "2     0             3      0      0      0              L             L   \n",
       "3     0             4      0      0      0              L             L   \n",
       "4     0             5      0      0      0              L             L   \n",
       "\n",
       "             weather  pitcher_id  batter_id   top  year  \n",
       "0  44 degrees, clear      452657     572761  True  2015  \n",
       "1  44 degrees, clear      452657     572761  True  2015  \n",
       "2  44 degrees, clear      452657     572761  True  2015  \n",
       "3  44 degrees, clear      452657     572761  True  2015  \n",
       "4  44 degrees, clear      452657     572761  True  2015  "
      ]
     },
     "execution_count": 55,
     "metadata": {},
     "output_type": "execute_result"
    }
   ],
   "source": [
    "main= main[['Pitch_Type','type_of_pitch', 'Pitcher_name', 'Batter_name', 'inning', 'run_difference', 'pitcher_score', 'batter_score', 'ball_count', 'strike_count', 'outs', 'pitch_num_ab',\n",
    "                            'on_1b', 'on_2b', 'on_3b',  'pitcher_throws', 'batter_stance', 'weather',\n",
    "                             'pitcher_id', 'batter_id', 'top', 'year']]\n",
    "main.head()"
   ]
  },
  {
   "cell_type": "markdown",
   "metadata": {},
   "source": []
  },
  {
   "cell_type": "code",
   "execution_count": null,
   "metadata": {},
   "outputs": [],
   "source": [
    "### Divide seasons convert to Csv for explorationa and modeling"
   ]
  },
  {
   "cell_type": "code",
   "execution_count": 59,
   "metadata": {},
   "outputs": [],
   "source": [
    "#isolating the data that only contains the 2015 season\n",
    "df15 = main[main['year'] == '2015']\n",
    "df15.to_csv('df15.csv')"
   ]
  },
  {
   "cell_type": "code",
   "execution_count": 60,
   "metadata": {},
   "outputs": [],
   "source": [
    "#isolating the data that only contains the 2016 season\n",
    "df16 = main[main['year'] == '2016']\n",
    "df16.to_csv('df16.csv')"
   ]
  },
  {
   "cell_type": "code",
   "execution_count": 61,
   "metadata": {},
   "outputs": [],
   "source": [
    "#isolating the data that only contains the 2017 season\n",
    "df17 = main[main['year'] == '2017']\n",
    "df17.to_csv('df17.csv')"
   ]
  },
  {
   "cell_type": "code",
   "execution_count": 62,
   "metadata": {},
   "outputs": [],
   "source": [
    "#isolating the data that only contains the 2018 season\n",
    "df18 = main[main['year'] == '2018']\n",
    "df18.to_csv('df18.csv')"
   ]
  },
  {
   "cell_type": "code",
   "execution_count": null,
   "metadata": {},
   "outputs": [],
   "source": []
  },
  {
   "cell_type": "code",
   "execution_count": null,
   "metadata": {},
   "outputs": [],
   "source": []
  },
  {
   "cell_type": "code",
   "execution_count": null,
   "metadata": {},
   "outputs": [],
   "source": []
  }
 ],
 "metadata": {
  "kernelspec": {
   "display_name": "Python 3",
   "language": "python",
   "name": "python3"
  },
  "language_info": {
   "codemirror_mode": {
    "name": "ipython",
    "version": 3
   },
   "file_extension": ".py",
   "mimetype": "text/x-python",
   "name": "python",
   "nbconvert_exporter": "python",
   "pygments_lexer": "ipython3",
   "version": "3.7.3"
  }
 },
 "nbformat": 4,
 "nbformat_minor": 2
}
