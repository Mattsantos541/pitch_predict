{
 "cells": [
  {
   "cell_type": "code",
   "execution_count": 2,
   "metadata": {},
   "outputs": [],
   "source": [
    "import pandas as pd\n",
    "import numpy as np\n",
    "import matplotlib.pyplot as plt\n",
    "import seaborn as sns\n",
    "pd.set_option('display.max_columns', None)"
   ]
  },
  {
   "cell_type": "code",
   "execution_count": 3,
   "metadata": {},
   "outputs": [],
   "source": [
    "df=pd.read_csv('dftrain.csv')"
   ]
  },
  {
   "cell_type": "code",
   "execution_count": 4,
   "metadata": {},
   "outputs": [
    {
     "name": "stdout",
     "output_type": "stream",
     "text": [
      "<class 'pandas.core.frame.DataFrame'>\n",
      "RangeIndex: 1400332 entries, 0 to 1400331\n",
      "Data columns (total 25 columns):\n",
      "Unnamed: 0        1400332 non-null int64\n",
      "Unnamed: 0.1      1400332 non-null int64\n",
      "Pitch_Type        1400332 non-null int64\n",
      "type_of_pitch     1400332 non-null object\n",
      "abid              1400332 non-null int64\n",
      "Pitcher_name      1400332 non-null object\n",
      "Batter_name       1400332 non-null object\n",
      "inning            1400332 non-null int64\n",
      "run_difference    1400332 non-null int64\n",
      "pitcher_score     1400332 non-null int64\n",
      "batter_score      1400332 non-null int64\n",
      "ball_count        1400332 non-null int64\n",
      "strike_count      1400332 non-null int64\n",
      "outs              1400332 non-null int64\n",
      "pitch_num_ab      1400332 non-null int64\n",
      "on_1b             1400332 non-null int64\n",
      "on_2b             1400332 non-null int64\n",
      "on_3b             1400332 non-null int64\n",
      "pitcher_throws    1400332 non-null int64\n",
      "batter_stance     1400332 non-null int64\n",
      "weather           1400332 non-null object\n",
      "pitcher_id        1400332 non-null int64\n",
      "batter_id         1400332 non-null int64\n",
      "top               1400332 non-null int64\n",
      "year              1400332 non-null int64\n",
      "dtypes: int64(21), object(4)\n",
      "memory usage: 267.1+ MB\n"
     ]
    }
   ],
   "source": [
    "df.info()"
   ]
  },
  {
   "cell_type": "code",
   "execution_count": 11,
   "metadata": {},
   "outputs": [
    {
     "data": {
      "text/plain": [
       "456034    6966\n",
       "453286    6906\n",
       "502042    6853\n",
       "518516    6848\n",
       "519242    6740\n",
       "500779    6629\n",
       "430935    6570\n",
       "456501    6548\n",
       "453562    6542\n",
       "450172    6522\n",
       "502188    6502\n",
       "446372    6444\n",
       "448306    6434\n",
       "543521    6378\n",
       "452657    6333\n",
       "502327    6275\n",
       "453178    6263\n",
       "527054    6215\n",
       "572971    6144\n",
       "519144    6126\n",
       "543606    6051\n",
       "461829    6045\n",
       "543408    6024\n",
       "407793    5928\n",
       "489119    5923\n",
       "501957    5868\n",
       "545333    5864\n",
       "457918    5854\n",
       "593372    5823\n",
       "434378    5810\n",
       "          ... \n",
       "514913      19\n",
       "424325      19\n",
       "400085      18\n",
       "592407      18\n",
       "434540      17\n",
       "461865      17\n",
       "643603      17\n",
       "545338      17\n",
       "518653      17\n",
       "500871      16\n",
       "502285      16\n",
       "446381      16\n",
       "425543      16\n",
       "501627      15\n",
       "543094      15\n",
       "592419      14\n",
       "453203      14\n",
       "543776      13\n",
       "425560      12\n",
       "534606      12\n",
       "572365      11\n",
       "572033      10\n",
       "519208       9\n",
       "596143       8\n",
       "572889       8\n",
       "600301       6\n",
       "489138       5\n",
       "534627       5\n",
       "506560       3\n",
       "456121       2\n",
       "Name: pitcher_id, Length: 951, dtype: int64"
      ]
     },
     "execution_count": 11,
     "metadata": {},
     "output_type": "execute_result"
    }
   ],
   "source": [
    "#getting how many pitches for each pitcher\n",
    "df['pitcher_id'].value_counts()"
   ]
  },
  {
   "cell_type": "code",
   "execution_count": 14,
   "metadata": {},
   "outputs": [
    {
     "data": {
      "text/html": [
       "<div>\n",
       "<style scoped>\n",
       "    .dataframe tbody tr th:only-of-type {\n",
       "        vertical-align: middle;\n",
       "    }\n",
       "\n",
       "    .dataframe tbody tr th {\n",
       "        vertical-align: top;\n",
       "    }\n",
       "\n",
       "    .dataframe thead th {\n",
       "        text-align: right;\n",
       "    }\n",
       "</style>\n",
       "<table border=\"1\" class=\"dataframe\">\n",
       "  <thead>\n",
       "    <tr style=\"text-align: right;\">\n",
       "      <th></th>\n",
       "      <th>pitcher_id</th>\n",
       "    </tr>\n",
       "  </thead>\n",
       "  <tbody>\n",
       "    <tr>\n",
       "      <th>count</th>\n",
       "      <td>951.000000</td>\n",
       "    </tr>\n",
       "    <tr>\n",
       "      <th>mean</th>\n",
       "      <td>1472.483701</td>\n",
       "    </tr>\n",
       "    <tr>\n",
       "      <th>std</th>\n",
       "      <td>1625.578373</td>\n",
       "    </tr>\n",
       "    <tr>\n",
       "      <th>min</th>\n",
       "      <td>2.000000</td>\n",
       "    </tr>\n",
       "    <tr>\n",
       "      <th>25%</th>\n",
       "      <td>253.500000</td>\n",
       "    </tr>\n",
       "    <tr>\n",
       "      <th>50%</th>\n",
       "      <td>908.000000</td>\n",
       "    </tr>\n",
       "    <tr>\n",
       "      <th>75%</th>\n",
       "      <td>2042.500000</td>\n",
       "    </tr>\n",
       "    <tr>\n",
       "      <th>max</th>\n",
       "      <td>6966.000000</td>\n",
       "    </tr>\n",
       "  </tbody>\n",
       "</table>\n",
       "</div>"
      ],
      "text/plain": [
       "        pitcher_id\n",
       "count   951.000000\n",
       "mean   1472.483701\n",
       "std    1625.578373\n",
       "min       2.000000\n",
       "25%     253.500000\n",
       "50%     908.000000\n",
       "75%    2042.500000\n",
       "max    6966.000000"
      ]
     },
     "execution_count": 14,
     "metadata": {},
     "output_type": "execute_result"
    }
   ],
   "source": [
    "#Dropping inspectors that have not copmpleted AT LEAST 2 inspections\n",
    "vdf = pd.DataFrame(df['pitcher_id'].value_counts())\n",
    "vdf.describe()"
   ]
  },
  {
   "cell_type": "code",
   "execution_count": 17,
   "metadata": {},
   "outputs": [],
   "source": [
    "vdf['check'] = vdf['pitcher_id'] > 1200\n"
   ]
  },
  {
   "cell_type": "code",
   "execution_count": 18,
   "metadata": {},
   "outputs": [],
   "source": [
    "over_1200 = list(vdf.loc[vdf['check'], :].reset_index()['index'])"
   ]
  },
  {
   "cell_type": "code",
   "execution_count": 19,
   "metadata": {},
   "outputs": [
    {
     "name": "stdout",
     "output_type": "stream",
     "text": [
      "<class 'pandas.core.frame.DataFrame'>\n",
      "Int64Index: 1168157 entries, 0 to 1400331\n",
      "Data columns (total 24 columns):\n",
      "Unnamed: 0.1      1168157 non-null int64\n",
      "Pitch_Type        1168157 non-null int64\n",
      "type_of_pitch     1168157 non-null object\n",
      "abid              1168157 non-null int64\n",
      "Pitcher_name      1168157 non-null object\n",
      "Batter_name       1168157 non-null object\n",
      "inning            1168157 non-null int64\n",
      "run_difference    1168157 non-null int64\n",
      "pitcher_score     1168157 non-null int64\n",
      "batter_score      1168157 non-null int64\n",
      "ball_count        1168157 non-null int64\n",
      "strike_count      1168157 non-null int64\n",
      "outs              1168157 non-null int64\n",
      "pitch_num_ab      1168157 non-null int64\n",
      "on_1b             1168157 non-null int64\n",
      "on_2b             1168157 non-null int64\n",
      "on_3b             1168157 non-null int64\n",
      "pitcher_throws    1168157 non-null int64\n",
      "batter_stance     1168157 non-null int64\n",
      "weather           1168157 non-null object\n",
      "pitcher_id        1168157 non-null int64\n",
      "batter_id         1168157 non-null int64\n",
      "top               1168157 non-null int64\n",
      "year              1168157 non-null int64\n",
      "dtypes: int64(20), object(4)\n",
      "memory usage: 222.8+ MB\n"
     ]
    }
   ],
   "source": [
    "df['check'] = df['pitcher_id'].isin(over_1200)\n",
    "new_df = df.loc[df['check'], :]\n",
    "new_df = new_df.drop(columns = ['check', 'Unnamed: 0'])\n",
    "new_df.info()"
   ]
  },
  {
   "cell_type": "code",
   "execution_count": 20,
   "metadata": {},
   "outputs": [],
   "source": [
    "df=new_df"
   ]
  },
  {
   "cell_type": "code",
   "execution_count": 23,
   "metadata": {},
   "outputs": [
    {
     "name": "stdout",
     "output_type": "stream",
     "text": [
      "<class 'pandas.core.frame.DataFrame'>\n",
      "Int64Index: 1168157 entries, 0 to 1400331\n",
      "Data columns (total 24 columns):\n",
      "Unnamed: 0.1      1168157 non-null int64\n",
      "Pitch_Type        1168157 non-null int64\n",
      "type_of_pitch     1168157 non-null object\n",
      "abid              1168157 non-null int64\n",
      "Pitcher_name      1168157 non-null object\n",
      "Batter_name       1168157 non-null object\n",
      "inning            1168157 non-null int64\n",
      "run_difference    1168157 non-null int64\n",
      "pitcher_score     1168157 non-null int64\n",
      "batter_score      1168157 non-null int64\n",
      "ball_count        1168157 non-null int64\n",
      "strike_count      1168157 non-null int64\n",
      "outs              1168157 non-null int64\n",
      "pitch_num_ab      1168157 non-null int64\n",
      "on_1b             1168157 non-null int64\n",
      "on_2b             1168157 non-null int64\n",
      "on_3b             1168157 non-null int64\n",
      "pitcher_throws    1168157 non-null int64\n",
      "batter_stance     1168157 non-null int64\n",
      "weather           1168157 non-null object\n",
      "pitcher_id        1168157 non-null int64\n",
      "batter_id         1168157 non-null int64\n",
      "top               1168157 non-null int64\n",
      "year              1168157 non-null int64\n",
      "dtypes: int64(20), object(4)\n",
      "memory usage: 222.8+ MB\n"
     ]
    }
   ],
   "source": [
    "df.info()"
   ]
  },
  {
   "cell_type": "code",
   "execution_count": null,
   "metadata": {},
   "outputs": [],
   "source": []
  }
 ],
 "metadata": {
  "kernelspec": {
   "display_name": "Python 3",
   "language": "python",
   "name": "python3"
  },
  "language_info": {
   "codemirror_mode": {
    "name": "ipython",
    "version": 3
   },
   "file_extension": ".py",
   "mimetype": "text/x-python",
   "name": "python",
   "nbconvert_exporter": "python",
   "pygments_lexer": "ipython3",
   "version": "3.7.3"
  }
 },
 "nbformat": 4,
 "nbformat_minor": 2
}
