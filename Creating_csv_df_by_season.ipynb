{
 "cells": [
  {
   "cell_type": "code",
   "execution_count": 1,
   "metadata": {},
   "outputs": [],
   "source": [
    "import pandas as pd\n",
    "import numpy as np\n",
    "import matplotlib.pyplot as plt\n",
    "import seaborn as sns\n",
    "from sklearn.preprocessing import RobustScaler, LabelEncoder\n",
    "from sklearn.model_selection import train_test_split, cross_val_score\n",
    "pd.set_option('display.max_columns', None)"
   ]
  },
  {
   "cell_type": "code",
   "execution_count": 2,
   "metadata": {},
   "outputs": [],
   "source": [
    "df=pd.read_csv('all_df.csv')"
   ]
  },
  {
   "cell_type": "code",
   "execution_count": null,
   "metadata": {},
   "outputs": [],
   "source": []
  },
  {
   "cell_type": "code",
   "execution_count": 3,
   "metadata": {},
   "outputs": [],
   "source": [
    "### will divide df into different dataframes by season"
   ]
  },
  {
   "cell_type": "code",
   "execution_count": 4,
   "metadata": {},
   "outputs": [],
   "source": [
    "#convert the game id column to a string\n",
    "dfy = df.g_id.astype('str')"
   ]
  },
  {
   "cell_type": "code",
   "execution_count": 6,
   "metadata": {},
   "outputs": [],
   "source": [
    "#Since the year is the first four characters, we will isolate those characters\n",
    "dfy = dfy.str[:4]"
   ]
  },
  {
   "cell_type": "code",
   "execution_count": 8,
   "metadata": {},
   "outputs": [
    {
     "data": {
      "text/plain": [
       "0    2015\n",
       "1    2015\n",
       "2    2015\n",
       "3    2015\n",
       "4    2015\n",
       "Name: g_id, dtype: object"
      ]
     },
     "execution_count": 8,
     "metadata": {},
     "output_type": "execute_result"
    }
   ],
   "source": [
    "dfy.head()"
   ]
  },
  {
   "cell_type": "code",
   "execution_count": 9,
   "metadata": {},
   "outputs": [],
   "source": [
    "#make new columnfor year\n",
    "df['year'] = dfy.values"
   ]
  },
  {
   "cell_type": "code",
   "execution_count": 10,
   "metadata": {},
   "outputs": [],
   "source": [
    "df.rename(columns= {'Pitchers Name': 'Pitcher_name', 'Batters Name': 'Batter_name'}, inplace= True)"
   ]
  },
  {
   "cell_type": "code",
   "execution_count": 11,
   "metadata": {},
   "outputs": [
    {
     "name": "stdout",
     "output_type": "stream",
     "text": [
      "<class 'pandas.core.frame.DataFrame'>\n",
      "RangeIndex: 2867154 entries, 0 to 2867153\n",
      "Data columns (total 72 columns):\n",
      "Unnamed: 0          int64\n",
      "px                  float64\n",
      "pz                  float64\n",
      "start_speed         float64\n",
      "end_speed           float64\n",
      "spin_rate           float64\n",
      "spin_dir            float64\n",
      "break_angle         float64\n",
      "break_length        float64\n",
      "break_y             float64\n",
      "ax                  float64\n",
      "ay                  float64\n",
      "az                  float64\n",
      "sz_bot              float64\n",
      "sz_top              float64\n",
      "type_confidence     float64\n",
      "vx0                 float64\n",
      "vy0                 float64\n",
      "vz0                 float64\n",
      "x                   float64\n",
      "x0                  float64\n",
      "y                   float64\n",
      "y0                  float64\n",
      "z0                  float64\n",
      "pfx_x               float64\n",
      "pfx_z               float64\n",
      "nasty               float64\n",
      "zone                float64\n",
      "code                object\n",
      "type                object\n",
      "pitch_type          object\n",
      "event_num           int64\n",
      "b_score             float64\n",
      "ab_id               int64\n",
      "b_count             float64\n",
      "s_count             float64\n",
      "outs                float64\n",
      "pitch_num           float64\n",
      "on_1b               float64\n",
      "on_2b               float64\n",
      "on_3b               float64\n",
      "batter_id           int64\n",
      "event               object\n",
      "g_id                int64\n",
      "inning              int64\n",
      "o                   int64\n",
      "p_score             int64\n",
      "p_throws            object\n",
      "pitcher_id          int64\n",
      "stand               object\n",
      "top                 bool\n",
      "attendance          int64\n",
      "away_final_score    int64\n",
      "away_team           object\n",
      "date                object\n",
      "elapsed_time        int64\n",
      "home_final_score    int64\n",
      "home_team           object\n",
      "start_time          object\n",
      "umpire_1B           object\n",
      "umpire_2B           object\n",
      "umpire_3B           object\n",
      "umpire_HP           object\n",
      "venue_name          object\n",
      "weather             object\n",
      "wind                object\n",
      "delay               int64\n",
      "Batter_name         object\n",
      "first_name          object\n",
      "last_name           object\n",
      "Pitcher_name        object\n",
      "year                object\n",
      "dtypes: bool(1), float64(35), int64(14), object(22)\n",
      "memory usage: 1.5+ GB\n"
     ]
    }
   ],
   "source": [
    "df.info()"
   ]
  },
  {
   "cell_type": "markdown",
   "metadata": {},
   "source": [
    "##### will get rid of unneccesary data for a new Dataframe, divide data by seasons since there is almost 3 million data points"
   ]
  },
  {
   "cell_type": "code",
   "execution_count": 12,
   "metadata": {},
   "outputs": [],
   "source": [
    "main= pd.DataFrame(df[['pitch_type', 'Pitcher_name', 'Batter_name', 'b_score', 's_count', 'outs', 'pitch_num', \\\n",
    "                            'on_1b', 'on_2b', 'on_3b', 'batter_id', 'inning', 'p_score', 'p_throws',\\\n",
    "                             'pitcher_id', 'stand', 'top', 'b_count', 'weather', 'year']])"
   ]
  },
  {
   "cell_type": "code",
   "execution_count": 15,
   "metadata": {},
   "outputs": [
    {
     "data": {
      "text/html": [
       "<div>\n",
       "<style scoped>\n",
       "    .dataframe tbody tr th:only-of-type {\n",
       "        vertical-align: middle;\n",
       "    }\n",
       "\n",
       "    .dataframe tbody tr th {\n",
       "        vertical-align: top;\n",
       "    }\n",
       "\n",
       "    .dataframe thead th {\n",
       "        text-align: right;\n",
       "    }\n",
       "</style>\n",
       "<table border=\"1\" class=\"dataframe\">\n",
       "  <thead>\n",
       "    <tr style=\"text-align: right;\">\n",
       "      <th></th>\n",
       "      <th>pitch_type</th>\n",
       "      <th>Pitcher_name</th>\n",
       "      <th>Batter_name</th>\n",
       "      <th>b_score</th>\n",
       "      <th>s_count</th>\n",
       "      <th>outs</th>\n",
       "      <th>pitch_num</th>\n",
       "      <th>on_1b</th>\n",
       "      <th>on_2b</th>\n",
       "      <th>on_3b</th>\n",
       "      <th>batter_id</th>\n",
       "      <th>inning</th>\n",
       "      <th>p_score</th>\n",
       "      <th>p_throws</th>\n",
       "      <th>pitcher_id</th>\n",
       "      <th>stand</th>\n",
       "      <th>top</th>\n",
       "      <th>b_count</th>\n",
       "      <th>weather</th>\n",
       "      <th>year</th>\n",
       "    </tr>\n",
       "  </thead>\n",
       "  <tbody>\n",
       "    <tr>\n",
       "      <th>0</th>\n",
       "      <td>FF</td>\n",
       "      <td>Jon Lester</td>\n",
       "      <td>Matt Carpenter</td>\n",
       "      <td>0.0</td>\n",
       "      <td>0.0</td>\n",
       "      <td>0.0</td>\n",
       "      <td>1.0</td>\n",
       "      <td>0.0</td>\n",
       "      <td>0.0</td>\n",
       "      <td>0.0</td>\n",
       "      <td>572761</td>\n",
       "      <td>1</td>\n",
       "      <td>0</td>\n",
       "      <td>L</td>\n",
       "      <td>452657</td>\n",
       "      <td>L</td>\n",
       "      <td>True</td>\n",
       "      <td>0.0</td>\n",
       "      <td>44 degrees, clear</td>\n",
       "      <td>2015</td>\n",
       "    </tr>\n",
       "    <tr>\n",
       "      <th>1</th>\n",
       "      <td>FF</td>\n",
       "      <td>Jon Lester</td>\n",
       "      <td>Matt Carpenter</td>\n",
       "      <td>0.0</td>\n",
       "      <td>1.0</td>\n",
       "      <td>0.0</td>\n",
       "      <td>2.0</td>\n",
       "      <td>0.0</td>\n",
       "      <td>0.0</td>\n",
       "      <td>0.0</td>\n",
       "      <td>572761</td>\n",
       "      <td>1</td>\n",
       "      <td>0</td>\n",
       "      <td>L</td>\n",
       "      <td>452657</td>\n",
       "      <td>L</td>\n",
       "      <td>True</td>\n",
       "      <td>0.0</td>\n",
       "      <td>44 degrees, clear</td>\n",
       "      <td>2015</td>\n",
       "    </tr>\n",
       "    <tr>\n",
       "      <th>2</th>\n",
       "      <td>FF</td>\n",
       "      <td>Jon Lester</td>\n",
       "      <td>Matt Carpenter</td>\n",
       "      <td>0.0</td>\n",
       "      <td>2.0</td>\n",
       "      <td>0.0</td>\n",
       "      <td>3.0</td>\n",
       "      <td>0.0</td>\n",
       "      <td>0.0</td>\n",
       "      <td>0.0</td>\n",
       "      <td>572761</td>\n",
       "      <td>1</td>\n",
       "      <td>0</td>\n",
       "      <td>L</td>\n",
       "      <td>452657</td>\n",
       "      <td>L</td>\n",
       "      <td>True</td>\n",
       "      <td>0.0</td>\n",
       "      <td>44 degrees, clear</td>\n",
       "      <td>2015</td>\n",
       "    </tr>\n",
       "    <tr>\n",
       "      <th>3</th>\n",
       "      <td>FF</td>\n",
       "      <td>Jon Lester</td>\n",
       "      <td>Matt Carpenter</td>\n",
       "      <td>0.0</td>\n",
       "      <td>2.0</td>\n",
       "      <td>0.0</td>\n",
       "      <td>4.0</td>\n",
       "      <td>0.0</td>\n",
       "      <td>0.0</td>\n",
       "      <td>0.0</td>\n",
       "      <td>572761</td>\n",
       "      <td>1</td>\n",
       "      <td>0</td>\n",
       "      <td>L</td>\n",
       "      <td>452657</td>\n",
       "      <td>L</td>\n",
       "      <td>True</td>\n",
       "      <td>0.0</td>\n",
       "      <td>44 degrees, clear</td>\n",
       "      <td>2015</td>\n",
       "    </tr>\n",
       "    <tr>\n",
       "      <th>4</th>\n",
       "      <td>CU</td>\n",
       "      <td>Jon Lester</td>\n",
       "      <td>Matt Carpenter</td>\n",
       "      <td>0.0</td>\n",
       "      <td>2.0</td>\n",
       "      <td>0.0</td>\n",
       "      <td>5.0</td>\n",
       "      <td>0.0</td>\n",
       "      <td>0.0</td>\n",
       "      <td>0.0</td>\n",
       "      <td>572761</td>\n",
       "      <td>1</td>\n",
       "      <td>0</td>\n",
       "      <td>L</td>\n",
       "      <td>452657</td>\n",
       "      <td>L</td>\n",
       "      <td>True</td>\n",
       "      <td>1.0</td>\n",
       "      <td>44 degrees, clear</td>\n",
       "      <td>2015</td>\n",
       "    </tr>\n",
       "  </tbody>\n",
       "</table>\n",
       "</div>"
      ],
      "text/plain": [
       "  pitch_type Pitcher_name     Batter_name  b_score  s_count  outs  pitch_num  \\\n",
       "0         FF   Jon Lester  Matt Carpenter      0.0      0.0   0.0        1.0   \n",
       "1         FF   Jon Lester  Matt Carpenter      0.0      1.0   0.0        2.0   \n",
       "2         FF   Jon Lester  Matt Carpenter      0.0      2.0   0.0        3.0   \n",
       "3         FF   Jon Lester  Matt Carpenter      0.0      2.0   0.0        4.0   \n",
       "4         CU   Jon Lester  Matt Carpenter      0.0      2.0   0.0        5.0   \n",
       "\n",
       "   on_1b  on_2b  on_3b  batter_id  inning  p_score p_throws  pitcher_id stand  \\\n",
       "0    0.0    0.0    0.0     572761       1        0        L      452657     L   \n",
       "1    0.0    0.0    0.0     572761       1        0        L      452657     L   \n",
       "2    0.0    0.0    0.0     572761       1        0        L      452657     L   \n",
       "3    0.0    0.0    0.0     572761       1        0        L      452657     L   \n",
       "4    0.0    0.0    0.0     572761       1        0        L      452657     L   \n",
       "\n",
       "    top  b_count            weather  year  \n",
       "0  True      0.0  44 degrees, clear  2015  \n",
       "1  True      0.0  44 degrees, clear  2015  \n",
       "2  True      0.0  44 degrees, clear  2015  \n",
       "3  True      0.0  44 degrees, clear  2015  \n",
       "4  True      1.0  44 degrees, clear  2015  "
      ]
     },
     "execution_count": 15,
     "metadata": {},
     "output_type": "execute_result"
    }
   ],
   "source": [
    "main.head()"
   ]
  },
  {
   "cell_type": "code",
   "execution_count": 16,
   "metadata": {},
   "outputs": [
    {
     "name": "stdout",
     "output_type": "stream",
     "text": [
      "<class 'pandas.core.frame.DataFrame'>\n",
      "RangeIndex: 2867154 entries, 0 to 2867153\n",
      "Data columns (total 20 columns):\n",
      "pitch_type      object\n",
      "Pitcher_name    object\n",
      "Batter_name     object\n",
      "b_score         float64\n",
      "s_count         float64\n",
      "outs            float64\n",
      "pitch_num       float64\n",
      "on_1b           float64\n",
      "on_2b           float64\n",
      "on_3b           float64\n",
      "batter_id       int64\n",
      "inning          int64\n",
      "p_score         int64\n",
      "p_throws        object\n",
      "pitcher_id      int64\n",
      "stand           object\n",
      "top             bool\n",
      "b_count         float64\n",
      "weather         object\n",
      "year            object\n",
      "dtypes: bool(1), float64(8), int64(4), object(7)\n",
      "memory usage: 418.4+ MB\n"
     ]
    }
   ],
   "source": [
    "main.info()"
   ]
  },
  {
   "cell_type": "code",
   "execution_count": 21,
   "metadata": {},
   "outputs": [],
   "source": [
    "#isolating the data that only contains the 2015 season\n",
    "df15 = main[main['year'] == '2015']\n",
    "df15.to_csv('df15.csv')"
   ]
  },
  {
   "cell_type": "code",
   "execution_count": 18,
   "metadata": {},
   "outputs": [],
   "source": [
    "#isolating the data that only contains the 2016 season\n",
    "df16 = main[main['year'] == '2016']"
   ]
  },
  {
   "cell_type": "code",
   "execution_count": 19,
   "metadata": {},
   "outputs": [],
   "source": [
    "#isolating the data that only contains the 2017 season\n",
    "df17 = main[main['year'] == '2017']"
   ]
  },
  {
   "cell_type": "code",
   "execution_count": 20,
   "metadata": {},
   "outputs": [],
   "source": [
    "#isolating the data that only contains the 2018 season\n",
    "df18 = main[main['year'] == '2018']"
   ]
  },
  {
   "cell_type": "code",
   "execution_count": null,
   "metadata": {},
   "outputs": [],
   "source": []
  }
 ],
 "metadata": {
  "kernelspec": {
   "display_name": "Python 3",
   "language": "python",
   "name": "python3"
  },
  "language_info": {
   "codemirror_mode": {
    "name": "ipython",
    "version": 3
   },
   "file_extension": ".py",
   "mimetype": "text/x-python",
   "name": "python",
   "nbconvert_exporter": "python",
   "pygments_lexer": "ipython3",
   "version": "3.7.3"
  }
 },
 "nbformat": 4,
 "nbformat_minor": 2
}
