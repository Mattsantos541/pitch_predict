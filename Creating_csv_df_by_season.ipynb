{
 "cells": [
  {
   "cell_type": "code",
   "execution_count": 1,
   "metadata": {},
   "outputs": [],
   "source": [
    "import pandas as pd\n",
    "import numpy as np\n",
    "import matplotlib.pyplot as plt\n",
    "import seaborn as sns\n",
    "from sklearn.preprocessing import RobustScaler, LabelEncoder\n",
    "from sklearn.model_selection import train_test_split, cross_val_score\n",
    "pd.set_option('display.max_columns', None)"
   ]
  },
  {
   "cell_type": "code",
   "execution_count": 2,
   "metadata": {},
   "outputs": [],
   "source": [
    "df=pd.read_csv('all_df.csv')"
   ]
  },
  {
   "cell_type": "code",
   "execution_count": null,
   "metadata": {},
   "outputs": [],
   "source": []
  },
  {
   "cell_type": "code",
   "execution_count": 3,
   "metadata": {},
   "outputs": [],
   "source": [
    "### will divide df into different dataframes by season"
   ]
  },
  {
   "cell_type": "code",
   "execution_count": 4,
   "metadata": {},
   "outputs": [],
   "source": [
    "#convert the game id column to a string\n",
    "dfy = df.g_id.astype('str')"
   ]
  },
  {
   "cell_type": "code",
   "execution_count": 5,
   "metadata": {},
   "outputs": [],
   "source": [
    "#Since the year is the first four characters, we will isolate those characters\n",
    "dfy = dfy.str[:4]"
   ]
  },
  {
   "cell_type": "code",
   "execution_count": 6,
   "metadata": {},
   "outputs": [
    {
     "data": {
      "text/plain": [
       "0    2015\n",
       "1    2015\n",
       "2    2015\n",
       "3    2015\n",
       "4    2015\n",
       "Name: g_id, dtype: object"
      ]
     },
     "execution_count": 6,
     "metadata": {},
     "output_type": "execute_result"
    }
   ],
   "source": [
    "dfy.head()"
   ]
  },
  {
   "cell_type": "code",
   "execution_count": 7,
   "metadata": {},
   "outputs": [],
   "source": [
    "#make new columnfor year\n",
    "df['year'] = dfy.values"
   ]
  },
  {
   "cell_type": "code",
   "execution_count": 8,
   "metadata": {},
   "outputs": [],
   "source": [
    "df.rename(columns= {'Pitchers Name': 'Pitcher_name', 'Batters Name': 'Batter_name', 'b_score': 'batter_score', 'b_count': 'ball_count', 'p_throws': 'pitcher_throws', 'stand': 'batter_stance', 'p_score': 'pitcher_score', 's_count': 'strike_count', 'pitch_type':'type_of_pitch', 'pitch_num': 'pitch_num_ab'}, inplace= True)"
   ]
  },
  {
   "cell_type": "code",
   "execution_count": null,
   "metadata": {},
   "outputs": [],
   "source": []
  },
  {
   "cell_type": "code",
   "execution_count": null,
   "metadata": {},
   "outputs": [],
   "source": [
    "#df1=df[[\"batter_score\", 'pitcher_score', 'ball_count', 'strike_count', 'outs', 'pitch_num_ab', 'on_1b', 'on_2b', 'on_3b' ]].astype(int)"
   ]
  },
  {
   "cell_type": "code",
   "execution_count": null,
   "metadata": {},
   "outputs": [],
   "source": []
  },
  {
   "cell_type": "markdown",
   "metadata": {},
   "source": [
    "##### will get rid of unneccesary data for a new Dataframe, divide data by seasons since there is almost 3 million data points"
   ]
  },
  {
   "cell_type": "code",
   "execution_count": 12,
   "metadata": {},
   "outputs": [],
   "source": [
    "main= pd.DataFrame(df[['type_of_pitch', 'Pitcher_name', 'Batter_name', 'pitcher_score', 'batter_score', 'ball_count', 'strike_count', 'outs', 'pitch_num_ab',\n",
    "                            'on_1b', 'on_2b', 'on_3b', 'batter_id', 'inning', 'pitcher_throws',\n",
    "                             'pitcher_id', 'batter_stance', 'top', 'weather', 'year']])"
   ]
  },
  {
   "cell_type": "code",
   "execution_count": null,
   "metadata": {},
   "outputs": [],
   "source": []
  },
  {
   "cell_type": "code",
   "execution_count": 14,
   "metadata": {},
   "outputs": [
    {
     "name": "stdout",
     "output_type": "stream",
     "text": [
      "<class 'pandas.core.frame.DataFrame'>\n",
      "RangeIndex: 2867154 entries, 0 to 2867153\n",
      "Data columns (total 20 columns):\n",
      "type_of_pitch     object\n",
      "Pitcher_name      object\n",
      "Batter_name       object\n",
      "pitcher_score     int64\n",
      "batter_score      float64\n",
      "ball_count        float64\n",
      "strike_count      float64\n",
      "outs              float64\n",
      "pitch_num_ab      float64\n",
      "on_1b             float64\n",
      "on_2b             float64\n",
      "on_3b             float64\n",
      "batter_id         int64\n",
      "inning            int64\n",
      "pitcher_throws    object\n",
      "pitcher_id        int64\n",
      "batter_stance     object\n",
      "top               bool\n",
      "weather           object\n",
      "year              object\n",
      "dtypes: bool(1), float64(8), int64(4), object(7)\n",
      "memory usage: 418.4+ MB\n"
     ]
    }
   ],
   "source": [
    "main.info()"
   ]
  },
  {
   "cell_type": "code",
   "execution_count": 15,
   "metadata": {},
   "outputs": [],
   "source": [
    "#needed to convert all floats to int, no benefit to keeping as floats\n",
    "main[[\"batter_score\", 'pitcher_score', 'ball_count', 'strike_count', 'outs', 'pitch_num_ab', 'on_1b', 'on_2b', 'on_3b' ]]= main[[\"batter_score\", 'pitcher_score', 'ball_count', 'strike_count', 'outs', 'pitch_num_ab', 'on_1b', 'on_2b', 'on_3b' ]].astype(int)"
   ]
  },
  {
   "cell_type": "code",
   "execution_count": 19,
   "metadata": {},
   "outputs": [
    {
     "data": {
      "text/html": [
       "<div>\n",
       "<style scoped>\n",
       "    .dataframe tbody tr th:only-of-type {\n",
       "        vertical-align: middle;\n",
       "    }\n",
       "\n",
       "    .dataframe tbody tr th {\n",
       "        vertical-align: top;\n",
       "    }\n",
       "\n",
       "    .dataframe thead th {\n",
       "        text-align: right;\n",
       "    }\n",
       "</style>\n",
       "<table border=\"1\" class=\"dataframe\">\n",
       "  <thead>\n",
       "    <tr style=\"text-align: right;\">\n",
       "      <th></th>\n",
       "      <th>type_of_pitch</th>\n",
       "      <th>Pitcher_name</th>\n",
       "      <th>Batter_name</th>\n",
       "      <th>pitcher_score</th>\n",
       "      <th>batter_score</th>\n",
       "      <th>ball_count</th>\n",
       "      <th>strike_count</th>\n",
       "      <th>outs</th>\n",
       "      <th>pitch_num_ab</th>\n",
       "      <th>on_1b</th>\n",
       "      <th>on_2b</th>\n",
       "      <th>on_3b</th>\n",
       "      <th>batter_id</th>\n",
       "      <th>inning</th>\n",
       "      <th>pitcher_throws</th>\n",
       "      <th>pitcher_id</th>\n",
       "      <th>batter_stance</th>\n",
       "      <th>top</th>\n",
       "      <th>weather</th>\n",
       "      <th>year</th>\n",
       "    </tr>\n",
       "  </thead>\n",
       "  <tbody>\n",
       "    <tr>\n",
       "      <th>0</th>\n",
       "      <td>FF</td>\n",
       "      <td>Jon Lester</td>\n",
       "      <td>Matt Carpenter</td>\n",
       "      <td>0</td>\n",
       "      <td>0</td>\n",
       "      <td>0</td>\n",
       "      <td>0</td>\n",
       "      <td>0</td>\n",
       "      <td>1</td>\n",
       "      <td>0</td>\n",
       "      <td>0</td>\n",
       "      <td>0</td>\n",
       "      <td>572761</td>\n",
       "      <td>1</td>\n",
       "      <td>L</td>\n",
       "      <td>452657</td>\n",
       "      <td>L</td>\n",
       "      <td>True</td>\n",
       "      <td>44 degrees, clear</td>\n",
       "      <td>2015</td>\n",
       "    </tr>\n",
       "  </tbody>\n",
       "</table>\n",
       "</div>"
      ],
      "text/plain": [
       "  type_of_pitch Pitcher_name     Batter_name  pitcher_score  batter_score  \\\n",
       "0            FF   Jon Lester  Matt Carpenter              0             0   \n",
       "\n",
       "   ball_count  strike_count  outs  pitch_num_ab  on_1b  on_2b  on_3b  \\\n",
       "0           0             0     0             1      0      0      0   \n",
       "\n",
       "   batter_id  inning pitcher_throws  pitcher_id batter_stance   top  \\\n",
       "0     572761       1              L      452657             L  True   \n",
       "\n",
       "             weather  year  \n",
       "0  44 degrees, clear  2015  "
      ]
     },
     "execution_count": 19,
     "metadata": {},
     "output_type": "execute_result"
    }
   ],
   "source": [
    "main.head(1)"
   ]
  },
  {
   "cell_type": "code",
   "execution_count": 20,
   "metadata": {},
   "outputs": [],
   "source": [
    "main= main[['type_of_pitch', 'Pitcher_name', 'Batter_name', 'inning', 'pitcher_score', 'batter_score', 'ball_count', 'strike_count', 'outs', 'pitch_num_ab',\n",
    "                            'on_1b', 'on_2b', 'on_3b',  'pitcher_throws', 'batter_stance', 'weather',\n",
    "                             'pitcher_id', 'batter_id', 'top', 'year']]"
   ]
  },
  {
   "cell_type": "code",
   "execution_count": 21,
   "metadata": {},
   "outputs": [
    {
     "data": {
      "text/html": [
       "<div>\n",
       "<style scoped>\n",
       "    .dataframe tbody tr th:only-of-type {\n",
       "        vertical-align: middle;\n",
       "    }\n",
       "\n",
       "    .dataframe tbody tr th {\n",
       "        vertical-align: top;\n",
       "    }\n",
       "\n",
       "    .dataframe thead th {\n",
       "        text-align: right;\n",
       "    }\n",
       "</style>\n",
       "<table border=\"1\" class=\"dataframe\">\n",
       "  <thead>\n",
       "    <tr style=\"text-align: right;\">\n",
       "      <th></th>\n",
       "      <th>type_of_pitch</th>\n",
       "      <th>Pitcher_name</th>\n",
       "      <th>Batter_name</th>\n",
       "      <th>inning</th>\n",
       "      <th>pitcher_score</th>\n",
       "      <th>batter_score</th>\n",
       "      <th>ball_count</th>\n",
       "      <th>strike_count</th>\n",
       "      <th>outs</th>\n",
       "      <th>pitch_num_ab</th>\n",
       "      <th>on_1b</th>\n",
       "      <th>on_2b</th>\n",
       "      <th>on_3b</th>\n",
       "      <th>pitcher_throws</th>\n",
       "      <th>batter_stance</th>\n",
       "      <th>weather</th>\n",
       "      <th>pitcher_id</th>\n",
       "      <th>batter_id</th>\n",
       "      <th>top</th>\n",
       "      <th>year</th>\n",
       "    </tr>\n",
       "  </thead>\n",
       "  <tbody>\n",
       "    <tr>\n",
       "      <th>0</th>\n",
       "      <td>FF</td>\n",
       "      <td>Jon Lester</td>\n",
       "      <td>Matt Carpenter</td>\n",
       "      <td>1</td>\n",
       "      <td>0</td>\n",
       "      <td>0</td>\n",
       "      <td>0</td>\n",
       "      <td>0</td>\n",
       "      <td>0</td>\n",
       "      <td>1</td>\n",
       "      <td>0</td>\n",
       "      <td>0</td>\n",
       "      <td>0</td>\n",
       "      <td>L</td>\n",
       "      <td>L</td>\n",
       "      <td>44 degrees, clear</td>\n",
       "      <td>452657</td>\n",
       "      <td>572761</td>\n",
       "      <td>True</td>\n",
       "      <td>2015</td>\n",
       "    </tr>\n",
       "  </tbody>\n",
       "</table>\n",
       "</div>"
      ],
      "text/plain": [
       "  type_of_pitch Pitcher_name     Batter_name  inning  pitcher_score  \\\n",
       "0            FF   Jon Lester  Matt Carpenter       1              0   \n",
       "\n",
       "   batter_score  ball_count  strike_count  outs  pitch_num_ab  on_1b  on_2b  \\\n",
       "0             0           0             0     0             1      0      0   \n",
       "\n",
       "   on_3b pitcher_throws batter_stance            weather  pitcher_id  \\\n",
       "0      0              L             L  44 degrees, clear      452657   \n",
       "\n",
       "   batter_id   top  year  \n",
       "0     572761  True  2015  "
      ]
     },
     "execution_count": 21,
     "metadata": {},
     "output_type": "execute_result"
    }
   ],
   "source": [
    "main.head(1)"
   ]
  },
  {
   "cell_type": "code",
   "execution_count": null,
   "metadata": {},
   "outputs": [],
   "source": []
  },
  {
   "cell_type": "markdown",
   "metadata": {},
   "source": []
  },
  {
   "cell_type": "code",
   "execution_count": null,
   "metadata": {},
   "outputs": [],
   "source": [
    "#checking for null values\n",
    "main.isnull().sum()"
   ]
  },
  {
   "cell_type": "markdown",
   "metadata": {},
   "source": [
    "#### Since <1% of the total observations contain null values (under pitch_type)we can drop the null values from the dataset "
   ]
  },
  {
   "cell_type": "code",
   "execution_count": null,
   "metadata": {},
   "outputs": [],
   "source": [
    "#dropping null values\n",
    "main = main.dropna()"
   ]
  },
  {
   "cell_type": "code",
   "execution_count": null,
   "metadata": {},
   "outputs": [],
   "source": [
    "main.isnull().sum()"
   ]
  },
  {
   "cell_type": "code",
   "execution_count": null,
   "metadata": {},
   "outputs": [],
   "source": [
    "main.head(15)"
   ]
  },
  {
   "cell_type": "code",
   "execution_count": null,
   "metadata": {},
   "outputs": [],
   "source": [
    "#isolating the data that only contains the 2015 season\n",
    "df15 = main[main['year'] == '2015']\n",
    "df15.to_csv('df15.csv')"
   ]
  },
  {
   "cell_type": "code",
   "execution_count": null,
   "metadata": {},
   "outputs": [],
   "source": [
    "#isolating the data that only contains the 2016 season\n",
    "df16 = main[main['year'] == '2016']\n",
    "df16.to_csv('df16.csv')"
   ]
  },
  {
   "cell_type": "code",
   "execution_count": null,
   "metadata": {},
   "outputs": [],
   "source": [
    "#isolating the data that only contains the 2017 season\n",
    "df17 = main[main['year'] == '2017']\n",
    "df17.to_csv('df17.csv')"
   ]
  },
  {
   "cell_type": "code",
   "execution_count": null,
   "metadata": {},
   "outputs": [],
   "source": [
    "#isolating the data that only contains the 2018 season\n",
    "df18 = main[main['year'] == '2018']\n",
    "df18.to_csv('df18.csv')"
   ]
  },
  {
   "cell_type": "code",
   "execution_count": null,
   "metadata": {},
   "outputs": [],
   "source": [
    "df18.info()"
   ]
  },
  {
   "cell_type": "code",
   "execution_count": null,
   "metadata": {},
   "outputs": [],
   "source": [
    "df15.describe()"
   ]
  },
  {
   "cell_type": "code",
   "execution_count": null,
   "metadata": {},
   "outputs": [],
   "source": []
  }
 ],
 "metadata": {
  "kernelspec": {
   "display_name": "Python 3",
   "language": "python",
   "name": "python3"
  },
  "language_info": {
   "codemirror_mode": {
    "name": "ipython",
    "version": 3
   },
   "file_extension": ".py",
   "mimetype": "text/x-python",
   "name": "python",
   "nbconvert_exporter": "python",
   "pygments_lexer": "ipython3",
   "version": "3.7.3"
  }
 },
 "nbformat": 4,
 "nbformat_minor": 2
}
