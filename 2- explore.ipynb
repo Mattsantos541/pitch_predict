{
 "cells": [
  {
   "cell_type": "code",
   "execution_count": 5,
   "metadata": {},
   "outputs": [],
   "source": [
    "import pandas as pd\n",
    "import numpy as np\n",
    "import matplotlib.pyplot as plt\n",
    "import seaborn as sns\n",
    "pd.set_option('display.max_columns', None)"
   ]
  },
  {
   "cell_type": "code",
   "execution_count": 2,
   "metadata": {},
   "outputs": [],
   "source": [
    "df15=pd.read_csv('df15.csv')"
   ]
  },
  {
   "cell_type": "code",
   "execution_count": 3,
   "metadata": {},
   "outputs": [],
   "source": [
    "df16=pd.read_csv('df16.csv')"
   ]
  },
  {
   "cell_type": "code",
   "execution_count": 7,
   "metadata": {},
   "outputs": [
    {
     "data": {
      "text/plain": [
       "1    369081\n",
       "3    239315\n",
       "2     85237\n",
       "Name: Pitch_Type, dtype: int64"
      ]
     },
     "execution_count": 7,
     "metadata": {},
     "output_type": "execute_result"
    }
   ],
   "source": [
    "df15['Pitch_Type'].value_counts()"
   ]
  },
  {
   "cell_type": "code",
   "execution_count": 14,
   "metadata": {},
   "outputs": [
    {
     "name": "stdout",
     "output_type": "stream",
     "text": [
      "<class 'pandas.core.frame.DataFrame'>\n",
      "RangeIndex: 693633 entries, 0 to 693632\n",
      "Data columns (total 23 columns):\n",
      "Unnamed: 0        693633 non-null int64\n",
      "Pitch_Type        693633 non-null int64\n",
      "type_of_pitch     693633 non-null object\n",
      "Pitcher_name      693633 non-null object\n",
      "Batter_name       693633 non-null object\n",
      "inning            693633 non-null int64\n",
      "run_difference    693633 non-null int64\n",
      "pitcher_score     693633 non-null int64\n",
      "batter_score      693633 non-null int64\n",
      "ball_count        693633 non-null int64\n",
      "strike_count      693633 non-null int64\n",
      "outs              693633 non-null int64\n",
      "pitch_num_ab      693633 non-null int64\n",
      "on_1b             693633 non-null int64\n",
      "on_2b             693633 non-null int64\n",
      "on_3b             693633 non-null int64\n",
      "pitcher_throws    693633 non-null object\n",
      "batter_stance     693633 non-null object\n",
      "weather           693633 non-null object\n",
      "pitcher_id        693633 non-null int64\n",
      "batter_id         693633 non-null int64\n",
      "top               693633 non-null bool\n",
      "year              693633 non-null int64\n",
      "dtypes: bool(1), int64(16), object(6)\n",
      "memory usage: 117.1+ MB\n"
     ]
    }
   ],
   "source": [
    "df15.info()"
   ]
  },
  {
   "cell_type": "code",
   "execution_count": 9,
   "metadata": {},
   "outputs": [
    {
     "data": {
      "text/plain": [
       "1    372282\n",
       "3    251421\n",
       "2     82996\n",
       "Name: Pitch_Type, dtype: int64"
      ]
     },
     "execution_count": 9,
     "metadata": {},
     "output_type": "execute_result"
    }
   ],
   "source": [
    "df16['Pitch_Type'].value_counts()"
   ]
  },
  {
   "cell_type": "code",
   "execution_count": 16,
   "metadata": {},
   "outputs": [
    {
     "name": "stdout",
     "output_type": "stream",
     "text": [
      "<class 'pandas.core.frame.DataFrame'>\n",
      "RangeIndex: 706699 entries, 0 to 706698\n",
      "Data columns (total 23 columns):\n",
      "Unnamed: 0        706699 non-null int64\n",
      "Pitch_Type        706699 non-null int64\n",
      "type_of_pitch     706699 non-null object\n",
      "Pitcher_name      706699 non-null object\n",
      "Batter_name       706699 non-null object\n",
      "inning            706699 non-null int64\n",
      "run_difference    706699 non-null int64\n",
      "pitcher_score     706699 non-null int64\n",
      "batter_score      706699 non-null int64\n",
      "ball_count        706699 non-null int64\n",
      "strike_count      706699 non-null int64\n",
      "outs              706699 non-null int64\n",
      "pitch_num_ab      706699 non-null int64\n",
      "on_1b             706699 non-null int64\n",
      "on_2b             706699 non-null int64\n",
      "on_3b             706699 non-null int64\n",
      "pitcher_throws    706699 non-null object\n",
      "batter_stance     706699 non-null object\n",
      "weather           706699 non-null object\n",
      "pitcher_id        706699 non-null int64\n",
      "batter_id         706699 non-null int64\n",
      "top               706699 non-null bool\n",
      "year              706699 non-null int64\n",
      "dtypes: bool(1), int64(16), object(6)\n",
      "memory usage: 119.3+ MB\n"
     ]
    }
   ],
   "source": [
    "df16.info()"
   ]
  },
  {
   "cell_type": "code",
   "execution_count": 18,
   "metadata": {},
   "outputs": [],
   "source": [
    "#comnbine 2015 season with 2016 season for Training \n",
    "dftrain = df15.append(df16)"
   ]
  },
  {
   "cell_type": "code",
   "execution_count": null,
   "metadata": {},
   "outputs": [],
   "source": [
    "dftrain.to_csv"
   ]
  },
  {
   "cell_type": "code",
   "execution_count": 15,
   "metadata": {},
   "outputs": [
    {
     "name": "stdout",
     "output_type": "stream",
     "text": [
      "<class 'pandas.core.frame.DataFrame'>\n",
      "Int64Index: 1400332 entries, 0 to 706698\n",
      "Data columns (total 23 columns):\n",
      "Unnamed: 0        1400332 non-null int64\n",
      "Pitch_Type        1400332 non-null int64\n",
      "type_of_pitch     1400332 non-null object\n",
      "Pitcher_name      1400332 non-null object\n",
      "Batter_name       1400332 non-null object\n",
      "inning            1400332 non-null int64\n",
      "run_difference    1400332 non-null int64\n",
      "pitcher_score     1400332 non-null int64\n",
      "batter_score      1400332 non-null int64\n",
      "ball_count        1400332 non-null int64\n",
      "strike_count      1400332 non-null int64\n",
      "outs              1400332 non-null int64\n",
      "pitch_num_ab      1400332 non-null int64\n",
      "on_1b             1400332 non-null int64\n",
      "on_2b             1400332 non-null int64\n",
      "on_3b             1400332 non-null int64\n",
      "pitcher_throws    1400332 non-null object\n",
      "batter_stance     1400332 non-null object\n",
      "weather           1400332 non-null object\n",
      "pitcher_id        1400332 non-null int64\n",
      "batter_id         1400332 non-null int64\n",
      "top               1400332 non-null bool\n",
      "year              1400332 non-null int64\n",
      "dtypes: bool(1), int64(16), object(6)\n",
      "memory usage: 247.1+ MB\n"
     ]
    }
   ],
   "source": [
    "df.info()"
   ]
  },
  {
   "cell_type": "code",
   "execution_count": 17,
   "metadata": {},
   "outputs": [
    {
     "data": {
      "text/plain": [
       "1    741363\n",
       "3    490736\n",
       "2    168233\n",
       "Name: Pitch_Type, dtype: int64"
      ]
     },
     "execution_count": 17,
     "metadata": {},
     "output_type": "execute_result"
    }
   ],
   "source": [
    "df['Pitch_Type'].value_counts()"
   ]
  },
  {
   "cell_type": "code",
   "execution_count": null,
   "metadata": {},
   "outputs": [],
   "source": []
  }
 ],
 "metadata": {
  "kernelspec": {
   "display_name": "Python 3",
   "language": "python",
   "name": "python3"
  },
  "language_info": {
   "codemirror_mode": {
    "name": "ipython",
    "version": 3
   },
   "file_extension": ".py",
   "mimetype": "text/x-python",
   "name": "python",
   "nbconvert_exporter": "python",
   "pygments_lexer": "ipython3",
   "version": "3.7.3"
  }
 },
 "nbformat": 4,
 "nbformat_minor": 2
}
