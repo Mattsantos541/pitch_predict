{
 "cells": [
  {
   "cell_type": "code",
   "execution_count": 1,
   "metadata": {},
   "outputs": [],
   "source": [
    "import pandas as pd\n",
    "from pybaseball import statcast\n"
   ]
  },
  {
   "cell_type": "code",
   "execution_count": 2,
   "metadata": {},
   "outputs": [],
   "source": [
    "drop_cols = ['spin_dir','spin_rate_deprecated', 'break_angle_deprecated','break_length_deprecated', \n",
    "             'game_type', 'tfs_deprecated', 'tfs_zulu_deprecated', 'umpire']"
   ]
  },
  {
   "cell_type": "code",
   "execution_count": null,
   "metadata": {},
   "outputs": [
    {
     "name": "stdout",
     "output_type": "stream",
     "text": [
      "This is a large query, it may take a moment to complete\n",
      "Completed sub-query from 2012-03-28 to 2012-04-02\n",
      "Completed sub-query from 2012-04-03 to 2012-04-08\n",
      "Completed sub-query from 2012-04-09 to 2012-04-14\n",
      "Completed sub-query from 2012-04-15 to 2012-04-20\n",
      "Completed sub-query from 2012-04-21 to 2012-04-26\n",
      "Completed sub-query from 2012-04-27 to 2012-05-02\n",
      "Completed sub-query from 2012-05-03 to 2012-05-08\n",
      "Completed sub-query from 2012-05-09 to 2012-05-14\n",
      "Completed sub-query from 2012-05-15 to 2012-05-20\n",
      "Completed sub-query from 2012-05-21 to 2012-05-26\n",
      "Completed sub-query from 2012-05-27 to 2012-06-01\n",
      "Completed sub-query from 2012-06-02 to 2012-06-07\n",
      "Completed sub-query from 2012-06-08 to 2012-06-13\n",
      "Completed sub-query from 2012-06-14 to 2012-06-19\n",
      "Completed sub-query from 2012-06-20 to 2012-06-25\n",
      "Completed sub-query from 2012-06-26 to 2012-07-01\n",
      "Completed sub-query from 2012-07-02 to 2012-07-07\n",
      "Completed sub-query from 2012-07-08 to 2012-07-13\n",
      "Completed sub-query from 2012-07-14 to 2012-07-19\n",
      "Completed sub-query from 2012-07-20 to 2012-07-25\n",
      "Completed sub-query from 2012-07-26 to 2012-07-31\n",
      "Completed sub-query from 2012-08-01 to 2012-08-06\n",
      "Completed sub-query from 2012-08-07 to 2012-08-12\n",
      "Completed sub-query from 2012-08-13 to 2012-08-18\n",
      "Completed sub-query from 2012-08-19 to 2012-08-24\n",
      "Completed sub-query from 2012-08-25 to 2012-08-30\n",
      "Completed sub-query from 2012-08-31 to 2012-09-05\n",
      "Completed sub-query from 2012-09-06 to 2012-09-11\n",
      "Completed sub-query from 2012-09-12 to 2012-09-17\n",
      "Completed sub-query from 2012-09-18 to 2012-09-23\n",
      "Completed sub-query from 2012-09-24 to 2012-09-29\n",
      "Completed sub-query from 2012-09-30 to 2012-10-05\n",
      "Completed sub-query from 2012-10-06 to 2012-10-11\n",
      "Completed sub-query from 2012-10-12 to 2012-10-17\n",
      "Completed sub-query from 2012-10-18 to 2012-10-23\n",
      "Completed sub-query from 2012-10-24 to 2012-10-28\n"
     ]
    }
   ],
   "source": [
    "#2012\n",
    "df = statcast('2012-03-28', '2012-10-28')\n",
    "df = df.drop(columns=drop_cols)\n",
    "\n",
    "df.to_csv('2012.csv')"
   ]
  },
  {
   "cell_type": "code",
   "execution_count": 7,
   "metadata": {},
   "outputs": [
    {
     "name": "stdout",
     "output_type": "stream",
     "text": [
      "This is a large query, it may take a moment to complete\n",
      "Completed sub-query from 2013-03-31 to 2013-04-05\n",
      "Completed sub-query from 2013-04-06 to 2013-04-11\n",
      "Completed sub-query from 2013-04-12 to 2013-04-17\n",
      "Completed sub-query from 2013-04-18 to 2013-04-23\n"
     ]
    },
    {
     "name": "stderr",
     "output_type": "stream",
     "text": [
      "/usr/local/anaconda3/lib/python3.7/site-packages/ipykernel_launcher.py:2: DtypeWarning: Columns (8,15,23) have mixed types. Specify dtype option on import or set low_memory=False.\n",
      "  \n"
     ]
    },
    {
     "name": "stdout",
     "output_type": "stream",
     "text": [
      "Completed sub-query from 2013-04-24 to 2013-04-29\n",
      "Completed sub-query from 2013-04-30 to 2013-05-05\n",
      "Completed sub-query from 2013-05-06 to 2013-05-11\n",
      "Completed sub-query from 2013-05-12 to 2013-05-17\n",
      "Completed sub-query from 2013-05-18 to 2013-05-23\n",
      "Completed sub-query from 2013-05-24 to 2013-05-29\n",
      "Completed sub-query from 2013-05-30 to 2013-06-04\n",
      "Completed sub-query from 2013-06-05 to 2013-06-10\n",
      "Completed sub-query from 2013-06-11 to 2013-06-16\n",
      "Completed sub-query from 2013-06-17 to 2013-06-22\n",
      "Completed sub-query from 2013-06-23 to 2013-06-28\n",
      "Completed sub-query from 2013-06-29 to 2013-07-04\n",
      "Completed sub-query from 2013-07-05 to 2013-07-10\n",
      "Completed sub-query from 2013-07-11 to 2013-07-16\n",
      "Completed sub-query from 2013-07-17 to 2013-07-22\n",
      "Completed sub-query from 2013-07-23 to 2013-07-28\n",
      "Completed sub-query from 2013-07-29 to 2013-08-03\n",
      "Completed sub-query from 2013-08-04 to 2013-08-09\n",
      "Completed sub-query from 2013-08-10 to 2013-08-15\n",
      "Completed sub-query from 2013-08-16 to 2013-08-21\n",
      "Completed sub-query from 2013-08-22 to 2013-08-27\n",
      "Completed sub-query from 2013-08-28 to 2013-09-02\n",
      "Completed sub-query from 2013-09-03 to 2013-09-08\n",
      "Completed sub-query from 2013-09-09 to 2013-09-14\n",
      "Completed sub-query from 2013-09-15 to 2013-09-20\n",
      "Completed sub-query from 2013-09-21 to 2013-09-26\n",
      "Completed sub-query from 2013-09-27 to 2013-10-02\n",
      "Completed sub-query from 2013-10-03 to 2013-10-08\n",
      "Completed sub-query from 2013-10-09 to 2013-10-14\n",
      "Completed sub-query from 2013-10-15 to 2013-10-20\n",
      "Completed sub-query from 2013-10-21 to 2013-10-26\n",
      "Completed sub-query from 2013-10-27 to 2013-10-30\n"
     ]
    }
   ],
   "source": [
    "#2013\n",
    "df = statcast('2013-03-31', '2013-10-30')\n",
    "df = df.drop(columns=drop_cols)\n",
    "\n",
    "df.to_csv('2013.csv')"
   ]
  },
  {
   "cell_type": "markdown",
   "metadata": {},
   "source": [
    "#2014\n",
    "df = statcast('2014-03-22', '2014-10-29')\n",
    "df = df.drop(columns=drop_cols)\n",
    "\n",
    "df.to_csv('2014.csv', compression='gzip')"
   ]
  },
  {
   "cell_type": "code",
   "execution_count": 9,
   "metadata": {},
   "outputs": [
    {
     "ename": "UnicodeDecodeError",
     "evalue": "'utf-8' codec can't decode byte 0x8b in position 1: invalid start byte",
     "output_type": "error",
     "traceback": [
      "\u001b[0;31m---------------------------------------------------------------------------\u001b[0m",
      "\u001b[0;31mUnicodeDecodeError\u001b[0m                        Traceback (most recent call last)",
      "\u001b[0;32m<ipython-input-9-dd8aa5332b1d>\u001b[0m in \u001b[0;36m<module>\u001b[0;34m\u001b[0m\n\u001b[0;32m----> 1\u001b[0;31m \u001b[0mdf_12\u001b[0m\u001b[0;34m=\u001b[0m \u001b[0mpd\u001b[0m\u001b[0;34m.\u001b[0m\u001b[0mread_csv\u001b[0m\u001b[0;34m(\u001b[0m\u001b[0;34m'2012.csv'\u001b[0m\u001b[0;34m)\u001b[0m\u001b[0;34m\u001b[0m\u001b[0;34m\u001b[0m\u001b[0m\n\u001b[0m",
      "\u001b[0;32m/usr/local/anaconda3/lib/python3.7/site-packages/pandas/io/parsers.py\u001b[0m in \u001b[0;36mparser_f\u001b[0;34m(filepath_or_buffer, sep, delimiter, header, names, index_col, usecols, squeeze, prefix, mangle_dupe_cols, dtype, engine, converters, true_values, false_values, skipinitialspace, skiprows, skipfooter, nrows, na_values, keep_default_na, na_filter, verbose, skip_blank_lines, parse_dates, infer_datetime_format, keep_date_col, date_parser, dayfirst, iterator, chunksize, compression, thousands, decimal, lineterminator, quotechar, quoting, doublequote, escapechar, comment, encoding, dialect, tupleize_cols, error_bad_lines, warn_bad_lines, delim_whitespace, low_memory, memory_map, float_precision)\u001b[0m\n\u001b[1;32m    700\u001b[0m                     skip_blank_lines=skip_blank_lines)\n\u001b[1;32m    701\u001b[0m \u001b[0;34m\u001b[0m\u001b[0m\n\u001b[0;32m--> 702\u001b[0;31m         \u001b[0;32mreturn\u001b[0m \u001b[0m_read\u001b[0m\u001b[0;34m(\u001b[0m\u001b[0mfilepath_or_buffer\u001b[0m\u001b[0;34m,\u001b[0m \u001b[0mkwds\u001b[0m\u001b[0;34m)\u001b[0m\u001b[0;34m\u001b[0m\u001b[0;34m\u001b[0m\u001b[0m\n\u001b[0m\u001b[1;32m    703\u001b[0m \u001b[0;34m\u001b[0m\u001b[0m\n\u001b[1;32m    704\u001b[0m     \u001b[0mparser_f\u001b[0m\u001b[0;34m.\u001b[0m\u001b[0m__name__\u001b[0m \u001b[0;34m=\u001b[0m \u001b[0mname\u001b[0m\u001b[0;34m\u001b[0m\u001b[0;34m\u001b[0m\u001b[0m\n",
      "\u001b[0;32m/usr/local/anaconda3/lib/python3.7/site-packages/pandas/io/parsers.py\u001b[0m in \u001b[0;36m_read\u001b[0;34m(filepath_or_buffer, kwds)\u001b[0m\n\u001b[1;32m    427\u001b[0m \u001b[0;34m\u001b[0m\u001b[0m\n\u001b[1;32m    428\u001b[0m     \u001b[0;31m# Create the parser.\u001b[0m\u001b[0;34m\u001b[0m\u001b[0;34m\u001b[0m\u001b[0;34m\u001b[0m\u001b[0m\n\u001b[0;32m--> 429\u001b[0;31m     \u001b[0mparser\u001b[0m \u001b[0;34m=\u001b[0m \u001b[0mTextFileReader\u001b[0m\u001b[0;34m(\u001b[0m\u001b[0mfilepath_or_buffer\u001b[0m\u001b[0;34m,\u001b[0m \u001b[0;34m**\u001b[0m\u001b[0mkwds\u001b[0m\u001b[0;34m)\u001b[0m\u001b[0;34m\u001b[0m\u001b[0;34m\u001b[0m\u001b[0m\n\u001b[0m\u001b[1;32m    430\u001b[0m \u001b[0;34m\u001b[0m\u001b[0m\n\u001b[1;32m    431\u001b[0m     \u001b[0;32mif\u001b[0m \u001b[0mchunksize\u001b[0m \u001b[0;32mor\u001b[0m \u001b[0miterator\u001b[0m\u001b[0;34m:\u001b[0m\u001b[0;34m\u001b[0m\u001b[0;34m\u001b[0m\u001b[0m\n",
      "\u001b[0;32m/usr/local/anaconda3/lib/python3.7/site-packages/pandas/io/parsers.py\u001b[0m in \u001b[0;36m__init__\u001b[0;34m(self, f, engine, **kwds)\u001b[0m\n\u001b[1;32m    893\u001b[0m             \u001b[0mself\u001b[0m\u001b[0;34m.\u001b[0m\u001b[0moptions\u001b[0m\u001b[0;34m[\u001b[0m\u001b[0;34m'has_index_names'\u001b[0m\u001b[0;34m]\u001b[0m \u001b[0;34m=\u001b[0m \u001b[0mkwds\u001b[0m\u001b[0;34m[\u001b[0m\u001b[0;34m'has_index_names'\u001b[0m\u001b[0;34m]\u001b[0m\u001b[0;34m\u001b[0m\u001b[0;34m\u001b[0m\u001b[0m\n\u001b[1;32m    894\u001b[0m \u001b[0;34m\u001b[0m\u001b[0m\n\u001b[0;32m--> 895\u001b[0;31m         \u001b[0mself\u001b[0m\u001b[0;34m.\u001b[0m\u001b[0m_make_engine\u001b[0m\u001b[0;34m(\u001b[0m\u001b[0mself\u001b[0m\u001b[0;34m.\u001b[0m\u001b[0mengine\u001b[0m\u001b[0;34m)\u001b[0m\u001b[0;34m\u001b[0m\u001b[0;34m\u001b[0m\u001b[0m\n\u001b[0m\u001b[1;32m    896\u001b[0m \u001b[0;34m\u001b[0m\u001b[0m\n\u001b[1;32m    897\u001b[0m     \u001b[0;32mdef\u001b[0m \u001b[0mclose\u001b[0m\u001b[0;34m(\u001b[0m\u001b[0mself\u001b[0m\u001b[0;34m)\u001b[0m\u001b[0;34m:\u001b[0m\u001b[0;34m\u001b[0m\u001b[0;34m\u001b[0m\u001b[0m\n",
      "\u001b[0;32m/usr/local/anaconda3/lib/python3.7/site-packages/pandas/io/parsers.py\u001b[0m in \u001b[0;36m_make_engine\u001b[0;34m(self, engine)\u001b[0m\n\u001b[1;32m   1120\u001b[0m     \u001b[0;32mdef\u001b[0m \u001b[0m_make_engine\u001b[0m\u001b[0;34m(\u001b[0m\u001b[0mself\u001b[0m\u001b[0;34m,\u001b[0m \u001b[0mengine\u001b[0m\u001b[0;34m=\u001b[0m\u001b[0;34m'c'\u001b[0m\u001b[0;34m)\u001b[0m\u001b[0;34m:\u001b[0m\u001b[0;34m\u001b[0m\u001b[0;34m\u001b[0m\u001b[0m\n\u001b[1;32m   1121\u001b[0m         \u001b[0;32mif\u001b[0m \u001b[0mengine\u001b[0m \u001b[0;34m==\u001b[0m \u001b[0;34m'c'\u001b[0m\u001b[0;34m:\u001b[0m\u001b[0;34m\u001b[0m\u001b[0;34m\u001b[0m\u001b[0m\n\u001b[0;32m-> 1122\u001b[0;31m             \u001b[0mself\u001b[0m\u001b[0;34m.\u001b[0m\u001b[0m_engine\u001b[0m \u001b[0;34m=\u001b[0m \u001b[0mCParserWrapper\u001b[0m\u001b[0;34m(\u001b[0m\u001b[0mself\u001b[0m\u001b[0;34m.\u001b[0m\u001b[0mf\u001b[0m\u001b[0;34m,\u001b[0m \u001b[0;34m**\u001b[0m\u001b[0mself\u001b[0m\u001b[0;34m.\u001b[0m\u001b[0moptions\u001b[0m\u001b[0;34m)\u001b[0m\u001b[0;34m\u001b[0m\u001b[0;34m\u001b[0m\u001b[0m\n\u001b[0m\u001b[1;32m   1123\u001b[0m         \u001b[0;32melse\u001b[0m\u001b[0;34m:\u001b[0m\u001b[0;34m\u001b[0m\u001b[0;34m\u001b[0m\u001b[0m\n\u001b[1;32m   1124\u001b[0m             \u001b[0;32mif\u001b[0m \u001b[0mengine\u001b[0m \u001b[0;34m==\u001b[0m \u001b[0;34m'python'\u001b[0m\u001b[0;34m:\u001b[0m\u001b[0;34m\u001b[0m\u001b[0;34m\u001b[0m\u001b[0m\n",
      "\u001b[0;32m/usr/local/anaconda3/lib/python3.7/site-packages/pandas/io/parsers.py\u001b[0m in \u001b[0;36m__init__\u001b[0;34m(self, src, **kwds)\u001b[0m\n\u001b[1;32m   1851\u001b[0m         \u001b[0mkwds\u001b[0m\u001b[0;34m[\u001b[0m\u001b[0;34m'usecols'\u001b[0m\u001b[0;34m]\u001b[0m \u001b[0;34m=\u001b[0m \u001b[0mself\u001b[0m\u001b[0;34m.\u001b[0m\u001b[0musecols\u001b[0m\u001b[0;34m\u001b[0m\u001b[0;34m\u001b[0m\u001b[0m\n\u001b[1;32m   1852\u001b[0m \u001b[0;34m\u001b[0m\u001b[0m\n\u001b[0;32m-> 1853\u001b[0;31m         \u001b[0mself\u001b[0m\u001b[0;34m.\u001b[0m\u001b[0m_reader\u001b[0m \u001b[0;34m=\u001b[0m \u001b[0mparsers\u001b[0m\u001b[0;34m.\u001b[0m\u001b[0mTextReader\u001b[0m\u001b[0;34m(\u001b[0m\u001b[0msrc\u001b[0m\u001b[0;34m,\u001b[0m \u001b[0;34m**\u001b[0m\u001b[0mkwds\u001b[0m\u001b[0;34m)\u001b[0m\u001b[0;34m\u001b[0m\u001b[0;34m\u001b[0m\u001b[0m\n\u001b[0m\u001b[1;32m   1854\u001b[0m         \u001b[0mself\u001b[0m\u001b[0;34m.\u001b[0m\u001b[0munnamed_cols\u001b[0m \u001b[0;34m=\u001b[0m \u001b[0mself\u001b[0m\u001b[0;34m.\u001b[0m\u001b[0m_reader\u001b[0m\u001b[0;34m.\u001b[0m\u001b[0munnamed_cols\u001b[0m\u001b[0;34m\u001b[0m\u001b[0;34m\u001b[0m\u001b[0m\n\u001b[1;32m   1855\u001b[0m \u001b[0;34m\u001b[0m\u001b[0m\n",
      "\u001b[0;32mpandas/_libs/parsers.pyx\u001b[0m in \u001b[0;36mpandas._libs.parsers.TextReader.__cinit__\u001b[0;34m()\u001b[0m\n",
      "\u001b[0;32mpandas/_libs/parsers.pyx\u001b[0m in \u001b[0;36mpandas._libs.parsers.TextReader._get_header\u001b[0;34m()\u001b[0m\n",
      "\u001b[0;31mUnicodeDecodeError\u001b[0m: 'utf-8' codec can't decode byte 0x8b in position 1: invalid start byte"
     ]
    }
   ],
   "source": [
    "df_12= pd.read_csv('2012.csv')"
   ]
  },
  {
   "cell_type": "code",
   "execution_count": null,
   "metadata": {},
   "outputs": [],
   "source": []
  }
 ],
 "metadata": {
  "kernelspec": {
   "display_name": "Python 3",
   "language": "python",
   "name": "python3"
  },
  "language_info": {
   "codemirror_mode": {
    "name": "ipython",
    "version": 3
   },
   "file_extension": ".py",
   "mimetype": "text/x-python",
   "name": "python",
   "nbconvert_exporter": "python",
   "pygments_lexer": "ipython3",
   "version": "3.7.3"
  }
 },
 "nbformat": 4,
 "nbformat_minor": 2
}
