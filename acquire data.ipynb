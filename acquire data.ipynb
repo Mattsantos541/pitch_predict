{
 "cells": [
  {
   "cell_type": "code",
   "execution_count": 1,
   "metadata": {},
   "outputs": [],
   "source": [
    "import pandas as pd\n",
    "from pybaseball import statcast"
   ]
  },
  {
   "cell_type": "code",
   "execution_count": 2,
   "metadata": {},
   "outputs": [
    {
     "ename": "NameError",
     "evalue": "name 'seasons' is not defined",
     "output_type": "error",
     "traceback": [
      "\u001b[0;31m---------------------------------------------------------------------------\u001b[0m",
      "\u001b[0;31mNameError\u001b[0m                                 Traceback (most recent call last)",
      "\u001b[0;32m<ipython-input-2-cc643857947a>\u001b[0m in \u001b[0;36m<module>\u001b[0;34m\u001b[0m\n\u001b[1;32m     18\u001b[0m \u001b[0;34m\u001b[0m\u001b[0m\n\u001b[1;32m     19\u001b[0m \u001b[0;34m\u001b[0m\u001b[0m\n\u001b[0;32m---> 20\u001b[0;31m \u001b[0;32mfor\u001b[0m \u001b[0myear\u001b[0m \u001b[0;32min\u001b[0m \u001b[0mseasons\u001b[0m\u001b[0;34m.\u001b[0m\u001b[0mkeys\u001b[0m\u001b[0;34m(\u001b[0m\u001b[0;34m)\u001b[0m\u001b[0;34m:\u001b[0m\u001b[0;34m\u001b[0m\u001b[0;34m\u001b[0m\u001b[0m\n\u001b[0m\u001b[1;32m     21\u001b[0m   \u001b[0mstart_date\u001b[0m \u001b[0;34m=\u001b[0m \u001b[0mseasons\u001b[0m\u001b[0;34m[\u001b[0m\u001b[0myear\u001b[0m\u001b[0;34m]\u001b[0m\u001b[0;34m[\u001b[0m\u001b[0;34m'start_date'\u001b[0m\u001b[0;34m]\u001b[0m\u001b[0;34m\u001b[0m\u001b[0;34m\u001b[0m\u001b[0m\n\u001b[1;32m     22\u001b[0m   \u001b[0mend_date\u001b[0m \u001b[0;34m=\u001b[0m \u001b[0mseasons\u001b[0m\u001b[0;34m[\u001b[0m\u001b[0myear\u001b[0m\u001b[0;34m]\u001b[0m\u001b[0;34m[\u001b[0m\u001b[0;34m'end_date'\u001b[0m\u001b[0;34m]\u001b[0m\u001b[0;34m\u001b[0m\u001b[0;34m\u001b[0m\u001b[0m\n",
      "\u001b[0;31mNameError\u001b[0m: name 'seasons' is not defined"
     ]
    }
   ],
   "source": [
    "def pull_clean_and_pickle(start_date, end_date, year):\n",
    "\n",
    "    # Pull in DataFrame from statcast\n",
    "    df = statcast(start_dt = start_date, end_dt = end_date)\n",
    "\n",
    "    # Drop depriciated and extraneous features\n",
    "    df = df.drop(columns = ['spin_dir','spin_rate_deprecated',\n",
    "         'break_angle_deprecated','break_length_deprecated', 'game_type',\n",
    "         'tfs_deprecated', 'tfs_zulu_deprecated', 'umpire'])\n",
    "\n",
    "    # Sort pitches chronologically\n",
    "    df = df.sort_values(by = ['game_date', 'game_pk', 'at_bat_number', 'pitch_number'])\n",
    "\n",
    "    # Pickle DataFrame\n",
    "    df.to_pickle(path=(\n",
    "    \"/Users/mattkirby/repos/RC-v1.0--Data-Gathering/season_pickles/pitches_\" + year + \".pkl\"\n",
    "    ),compression='zip')\n",
    "\n",
    "\n",
    "for year in seasons.keys():\n",
    "  start_date = seasons[year]['start_date']\n",
    "  end_date = seasons[year]['end_date']\n",
    "  pull_clean_and_pickle(start_date, end_date, year)\n"
   ]
  },
  {
   "cell_type": "code",
   "execution_count": null,
   "metadata": {},
   "outputs": [],
   "source": []
  }
 ],
 "metadata": {
  "kernelspec": {
   "display_name": "Python 3",
   "language": "python",
   "name": "python3"
  },
  "language_info": {
   "codemirror_mode": {
    "name": "ipython",
    "version": 3
   },
   "file_extension": ".py",
   "mimetype": "text/x-python",
   "name": "python",
   "nbconvert_exporter": "python",
   "pygments_lexer": "ipython3",
   "version": "3.7.3"
  }
 },
 "nbformat": 4,
 "nbformat_minor": 2
}
